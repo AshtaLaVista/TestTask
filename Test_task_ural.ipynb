{
 "cells": [
  {
   "cell_type": "markdown",
   "id": "95d9c2f2",
   "metadata": {},
   "source": [
    "# Тестовое задание"
   ]
  },
  {
   "cell_type": "markdown",
   "id": "bd4db1b2",
   "metadata": {},
   "source": [
    "## Задание 1"
   ]
  },
  {
   "cell_type": "code",
   "execution_count": 1,
   "id": "0ee6b5f2",
   "metadata": {},
   "outputs": [
    {
     "name": "stdout",
     "output_type": "stream",
     "text": [
      "['задача', 'сообщения', 'звонки', 'оплаты', 'долги', 'структура']\n"
     ]
    }
   ],
   "source": [
    "import pandas as pd\n",
    "path = ('кейс для аналитика.xlsx')\n",
    "xl = pd.ExcelFile(path)\n",
    "print(xl.sheet_names)"
   ]
  },
  {
   "cell_type": "markdown",
   "id": "c5d94c41",
   "metadata": {},
   "source": [
    "## Звонки и сообщения"
   ]
  },
  {
   "cell_type": "code",
   "execution_count": 2,
   "id": "0c60246e",
   "metadata": {},
   "outputs": [
    {
     "data": {
      "text/html": [
       "<div>\n",
       "<style scoped>\n",
       "    .dataframe tbody tr th:only-of-type {\n",
       "        vertical-align: middle;\n",
       "    }\n",
       "\n",
       "    .dataframe tbody tr th {\n",
       "        vertical-align: top;\n",
       "    }\n",
       "\n",
       "    .dataframe thead th {\n",
       "        text-align: right;\n",
       "    }\n",
       "</style>\n",
       "<table border=\"1\" class=\"dataframe\">\n",
       "  <thead>\n",
       "    <tr style=\"text-align: right;\">\n",
       "      <th></th>\n",
       "      <th>ELS_NKR</th>\n",
       "    </tr>\n",
       "  </thead>\n",
       "  <tbody>\n",
       "    <tr>\n",
       "      <th>0</th>\n",
       "      <td>7400204504</td>\n",
       "    </tr>\n",
       "    <tr>\n",
       "      <th>1</th>\n",
       "      <td>7400715365</td>\n",
       "    </tr>\n",
       "    <tr>\n",
       "      <th>2</th>\n",
       "      <td>7400635290</td>\n",
       "    </tr>\n",
       "    <tr>\n",
       "      <th>3</th>\n",
       "      <td>7400181048</td>\n",
       "    </tr>\n",
       "    <tr>\n",
       "      <th>4</th>\n",
       "      <td>7400291083</td>\n",
       "    </tr>\n",
       "    <tr>\n",
       "      <th>...</th>\n",
       "      <td>...</td>\n",
       "    </tr>\n",
       "    <tr>\n",
       "      <th>127663</th>\n",
       "      <td>7400097099</td>\n",
       "    </tr>\n",
       "    <tr>\n",
       "      <th>127664</th>\n",
       "      <td>7400077435</td>\n",
       "    </tr>\n",
       "    <tr>\n",
       "      <th>127665</th>\n",
       "      <td>7400637713</td>\n",
       "    </tr>\n",
       "    <tr>\n",
       "      <th>127666</th>\n",
       "      <td>7400469844</td>\n",
       "    </tr>\n",
       "    <tr>\n",
       "      <th>127667</th>\n",
       "      <td>7400441580</td>\n",
       "    </tr>\n",
       "  </tbody>\n",
       "</table>\n",
       "<p>127668 rows × 1 columns</p>\n",
       "</div>"
      ],
      "text/plain": [
       "           ELS_NKR\n",
       "0       7400204504\n",
       "1       7400715365\n",
       "2       7400635290\n",
       "3       7400181048\n",
       "4       7400291083\n",
       "...            ...\n",
       "127663  7400097099\n",
       "127664  7400077435\n",
       "127665  7400637713\n",
       "127666  7400469844\n",
       "127667  7400441580\n",
       "\n",
       "[127668 rows x 1 columns]"
      ]
     },
     "execution_count": 2,
     "metadata": {},
     "output_type": "execute_result"
    }
   ],
   "source": [
    "df1 = xl.parse('звонки')\n",
    "df1"
   ]
  },
  {
   "cell_type": "code",
   "execution_count": 3,
   "id": "540dca01",
   "metadata": {},
   "outputs": [
    {
     "data": {
      "text/plain": [
       "ELS_NKR    75309\n",
       "dtype: int64"
      ]
     },
     "execution_count": 3,
     "metadata": {},
     "output_type": "execute_result"
    }
   ],
   "source": [
    "df1.nunique()"
   ]
  },
  {
   "cell_type": "code",
   "execution_count": 4,
   "id": "b13c0dff",
   "metadata": {},
   "outputs": [
    {
     "data": {
      "text/html": [
       "<div>\n",
       "<style scoped>\n",
       "    .dataframe tbody tr th:only-of-type {\n",
       "        vertical-align: middle;\n",
       "    }\n",
       "\n",
       "    .dataframe tbody tr th {\n",
       "        vertical-align: top;\n",
       "    }\n",
       "\n",
       "    .dataframe thead th {\n",
       "        text-align: right;\n",
       "    }\n",
       "</style>\n",
       "<table border=\"1\" class=\"dataframe\">\n",
       "  <thead>\n",
       "    <tr style=\"text-align: right;\">\n",
       "      <th></th>\n",
       "      <th>ELS_NKR</th>\n",
       "    </tr>\n",
       "  </thead>\n",
       "  <tbody>\n",
       "    <tr>\n",
       "      <th>0</th>\n",
       "      <td>7400143318</td>\n",
       "    </tr>\n",
       "    <tr>\n",
       "      <th>1</th>\n",
       "      <td>7400139649</td>\n",
       "    </tr>\n",
       "    <tr>\n",
       "      <th>2</th>\n",
       "      <td>7400143190</td>\n",
       "    </tr>\n",
       "    <tr>\n",
       "      <th>3</th>\n",
       "      <td>7400143009</td>\n",
       "    </tr>\n",
       "    <tr>\n",
       "      <th>4</th>\n",
       "      <td>7400140943</td>\n",
       "    </tr>\n",
       "    <tr>\n",
       "      <th>...</th>\n",
       "      <td>...</td>\n",
       "    </tr>\n",
       "    <tr>\n",
       "      <th>57680</th>\n",
       "      <td>7400102034</td>\n",
       "    </tr>\n",
       "    <tr>\n",
       "      <th>57681</th>\n",
       "      <td>7400103685</td>\n",
       "    </tr>\n",
       "    <tr>\n",
       "      <th>57682</th>\n",
       "      <td>7400127841</td>\n",
       "    </tr>\n",
       "    <tr>\n",
       "      <th>57683</th>\n",
       "      <td>7400708530</td>\n",
       "    </tr>\n",
       "    <tr>\n",
       "      <th>57684</th>\n",
       "      <td>7400493935</td>\n",
       "    </tr>\n",
       "  </tbody>\n",
       "</table>\n",
       "<p>57685 rows × 1 columns</p>\n",
       "</div>"
      ],
      "text/plain": [
       "          ELS_NKR\n",
       "0      7400143318\n",
       "1      7400139649\n",
       "2      7400143190\n",
       "3      7400143009\n",
       "4      7400140943\n",
       "...           ...\n",
       "57680  7400102034\n",
       "57681  7400103685\n",
       "57682  7400127841\n",
       "57683  7400708530\n",
       "57684  7400493935\n",
       "\n",
       "[57685 rows x 1 columns]"
      ]
     },
     "execution_count": 4,
     "metadata": {},
     "output_type": "execute_result"
    }
   ],
   "source": [
    "df2 = xl.parse('сообщения')\n",
    "df2"
   ]
  },
  {
   "cell_type": "code",
   "execution_count": 5,
   "id": "66541dcf",
   "metadata": {},
   "outputs": [
    {
     "data": {
      "text/plain": [
       "ELS_NKR    57685\n",
       "dtype: int64"
      ]
     },
     "execution_count": 5,
     "metadata": {},
     "output_type": "execute_result"
    }
   ],
   "source": [
    "df2.nunique()"
   ]
  },
  {
   "cell_type": "code",
   "execution_count": 6,
   "id": "bb38ea49",
   "metadata": {},
   "outputs": [
    {
     "data": {
      "text/html": [
       "<div>\n",
       "<style scoped>\n",
       "    .dataframe tbody tr th:only-of-type {\n",
       "        vertical-align: middle;\n",
       "    }\n",
       "\n",
       "    .dataframe tbody tr th {\n",
       "        vertical-align: top;\n",
       "    }\n",
       "\n",
       "    .dataframe thead th {\n",
       "        text-align: right;\n",
       "    }\n",
       "</style>\n",
       "<table border=\"1\" class=\"dataframe\">\n",
       "  <thead>\n",
       "    <tr style=\"text-align: right;\">\n",
       "      <th></th>\n",
       "      <th>ELS_NKR</th>\n",
       "      <th>COUNT</th>\n",
       "      <th>TYPE</th>\n",
       "    </tr>\n",
       "  </thead>\n",
       "  <tbody>\n",
       "    <tr>\n",
       "      <th>0</th>\n",
       "      <td>7400986627</td>\n",
       "      <td>1</td>\n",
       "      <td>сообщение</td>\n",
       "    </tr>\n",
       "    <tr>\n",
       "      <th>1</th>\n",
       "      <td>7401590467</td>\n",
       "      <td>1</td>\n",
       "      <td>сообщение</td>\n",
       "    </tr>\n",
       "    <tr>\n",
       "      <th>2</th>\n",
       "      <td>7400271631</td>\n",
       "      <td>1</td>\n",
       "      <td>сообщение</td>\n",
       "    </tr>\n",
       "    <tr>\n",
       "      <th>3</th>\n",
       "      <td>7400596253</td>\n",
       "      <td>1</td>\n",
       "      <td>сообщение</td>\n",
       "    </tr>\n",
       "    <tr>\n",
       "      <th>4</th>\n",
       "      <td>7400054545</td>\n",
       "      <td>1</td>\n",
       "      <td>сообщение</td>\n",
       "    </tr>\n",
       "    <tr>\n",
       "      <th>...</th>\n",
       "      <td>...</td>\n",
       "      <td>...</td>\n",
       "      <td>...</td>\n",
       "    </tr>\n",
       "    <tr>\n",
       "      <th>57680</th>\n",
       "      <td>7400641871</td>\n",
       "      <td>1</td>\n",
       "      <td>сообщение</td>\n",
       "    </tr>\n",
       "    <tr>\n",
       "      <th>57681</th>\n",
       "      <td>7400691237</td>\n",
       "      <td>1</td>\n",
       "      <td>сообщение</td>\n",
       "    </tr>\n",
       "    <tr>\n",
       "      <th>57682</th>\n",
       "      <td>7400463702</td>\n",
       "      <td>1</td>\n",
       "      <td>сообщение</td>\n",
       "    </tr>\n",
       "    <tr>\n",
       "      <th>57683</th>\n",
       "      <td>7400461655</td>\n",
       "      <td>1</td>\n",
       "      <td>сообщение</td>\n",
       "    </tr>\n",
       "    <tr>\n",
       "      <th>57684</th>\n",
       "      <td>7401541318</td>\n",
       "      <td>1</td>\n",
       "      <td>сообщение</td>\n",
       "    </tr>\n",
       "  </tbody>\n",
       "</table>\n",
       "<p>57685 rows × 3 columns</p>\n",
       "</div>"
      ],
      "text/plain": [
       "          ELS_NKR  COUNT       TYPE\n",
       "0      7400986627      1  сообщение\n",
       "1      7401590467      1  сообщение\n",
       "2      7400271631      1  сообщение\n",
       "3      7400596253      1  сообщение\n",
       "4      7400054545      1  сообщение\n",
       "...           ...    ...        ...\n",
       "57680  7400641871      1  сообщение\n",
       "57681  7400691237      1  сообщение\n",
       "57682  7400463702      1  сообщение\n",
       "57683  7400461655      1  сообщение\n",
       "57684  7401541318      1  сообщение\n",
       "\n",
       "[57685 rows x 3 columns]"
      ]
     },
     "execution_count": 6,
     "metadata": {},
     "output_type": "execute_result"
    }
   ],
   "source": [
    "df2=df2.ELS_NKR.value_counts().reset_index()\n",
    "df2.rename( columns={'ELS_NKR':'COUNT', 'index':'ELS_NKR'}, inplace=True )\n",
    "df2['TYPE']='сообщение'\n",
    "df2"
   ]
  },
  {
   "cell_type": "code",
   "execution_count": 7,
   "id": "4535f03c",
   "metadata": {},
   "outputs": [
    {
     "data": {
      "text/html": [
       "<div>\n",
       "<style scoped>\n",
       "    .dataframe tbody tr th:only-of-type {\n",
       "        vertical-align: middle;\n",
       "    }\n",
       "\n",
       "    .dataframe tbody tr th {\n",
       "        vertical-align: top;\n",
       "    }\n",
       "\n",
       "    .dataframe thead th {\n",
       "        text-align: right;\n",
       "    }\n",
       "</style>\n",
       "<table border=\"1\" class=\"dataframe\">\n",
       "  <thead>\n",
       "    <tr style=\"text-align: right;\">\n",
       "      <th></th>\n",
       "      <th>ELS_NKR</th>\n",
       "      <th>COUNT</th>\n",
       "      <th>TYPE</th>\n",
       "    </tr>\n",
       "  </thead>\n",
       "  <tbody>\n",
       "    <tr>\n",
       "      <th>0</th>\n",
       "      <td>7401479980</td>\n",
       "      <td>16</td>\n",
       "      <td>звонок</td>\n",
       "    </tr>\n",
       "    <tr>\n",
       "      <th>1</th>\n",
       "      <td>7400165248</td>\n",
       "      <td>15</td>\n",
       "      <td>звонок</td>\n",
       "    </tr>\n",
       "    <tr>\n",
       "      <th>2</th>\n",
       "      <td>7401235399</td>\n",
       "      <td>14</td>\n",
       "      <td>звонок</td>\n",
       "    </tr>\n",
       "    <tr>\n",
       "      <th>3</th>\n",
       "      <td>7400263294</td>\n",
       "      <td>13</td>\n",
       "      <td>звонок</td>\n",
       "    </tr>\n",
       "    <tr>\n",
       "      <th>4</th>\n",
       "      <td>7401281347</td>\n",
       "      <td>13</td>\n",
       "      <td>звонок</td>\n",
       "    </tr>\n",
       "    <tr>\n",
       "      <th>...</th>\n",
       "      <td>...</td>\n",
       "      <td>...</td>\n",
       "      <td>...</td>\n",
       "    </tr>\n",
       "    <tr>\n",
       "      <th>75304</th>\n",
       "      <td>7401099107</td>\n",
       "      <td>1</td>\n",
       "      <td>звонок</td>\n",
       "    </tr>\n",
       "    <tr>\n",
       "      <th>75305</th>\n",
       "      <td>7400058727</td>\n",
       "      <td>1</td>\n",
       "      <td>звонок</td>\n",
       "    </tr>\n",
       "    <tr>\n",
       "      <th>75306</th>\n",
       "      <td>7400824681</td>\n",
       "      <td>1</td>\n",
       "      <td>звонок</td>\n",
       "    </tr>\n",
       "    <tr>\n",
       "      <th>75307</th>\n",
       "      <td>7400596701</td>\n",
       "      <td>1</td>\n",
       "      <td>звонок</td>\n",
       "    </tr>\n",
       "    <tr>\n",
       "      <th>75308</th>\n",
       "      <td>7400988668</td>\n",
       "      <td>1</td>\n",
       "      <td>звонок</td>\n",
       "    </tr>\n",
       "  </tbody>\n",
       "</table>\n",
       "<p>75309 rows × 3 columns</p>\n",
       "</div>"
      ],
      "text/plain": [
       "          ELS_NKR  COUNT    TYPE\n",
       "0      7401479980     16  звонок\n",
       "1      7400165248     15  звонок\n",
       "2      7401235399     14  звонок\n",
       "3      7400263294     13  звонок\n",
       "4      7401281347     13  звонок\n",
       "...           ...    ...     ...\n",
       "75304  7401099107      1  звонок\n",
       "75305  7400058727      1  звонок\n",
       "75306  7400824681      1  звонок\n",
       "75307  7400596701      1  звонок\n",
       "75308  7400988668      1  звонок\n",
       "\n",
       "[75309 rows x 3 columns]"
      ]
     },
     "execution_count": 7,
     "metadata": {},
     "output_type": "execute_result"
    }
   ],
   "source": [
    "df1=df1.ELS_NKR.value_counts().reset_index()\n",
    "df1.rename( columns={'ELS_NKR':'COUNT', 'index':'ELS_NKR'}, inplace=True )\n",
    "df1['TYPE']='звонок'\n",
    "df1"
   ]
  },
  {
   "cell_type": "code",
   "execution_count": 8,
   "id": "fce9ae4e",
   "metadata": {
    "scrolled": true
   },
   "outputs": [
    {
     "name": "stdout",
     "output_type": "stream",
     "text": [
      "<class 'pandas.core.frame.DataFrame'>\n",
      "Int64Index: 132994 entries, 0 to 57684\n",
      "Data columns (total 3 columns):\n",
      " #   Column   Non-Null Count   Dtype \n",
      "---  ------   --------------   ----- \n",
      " 0   ELS_NKR  132994 non-null  int64 \n",
      " 1   COUNT    132994 non-null  int64 \n",
      " 2   TYPE     132994 non-null  object\n",
      "dtypes: int64(2), object(1)\n",
      "memory usage: 4.1+ MB\n"
     ]
    }
   ],
   "source": [
    "df_action=pd.concat([df1,df2])\n",
    "df_action.info()"
   ]
  },
  {
   "cell_type": "code",
   "execution_count": 9,
   "id": "a58bec74",
   "metadata": {},
   "outputs": [
    {
     "data": {
      "text/plain": [
       "24974"
      ]
     },
     "execution_count": 9,
     "metadata": {},
     "output_type": "execute_result"
    }
   ],
   "source": [
    "# получали и звонки и сообщение\n",
    "df_action.ELS_NKR.count()-df_action.ELS_NKR.nunique()"
   ]
  },
  {
   "cell_type": "code",
   "execution_count": 10,
   "id": "f229dfa4",
   "metadata": {},
   "outputs": [
    {
     "name": "stdout",
     "output_type": "stream",
     "text": [
      "<class 'pandas.core.frame.DataFrame'>\n",
      "Int64Index: 83046 entries, 1 to 57682\n",
      "Data columns (total 3 columns):\n",
      " #   Column   Non-Null Count  Dtype \n",
      "---  ------   --------------  ----- \n",
      " 0   ELS_NKR  83046 non-null  int64 \n",
      " 1   COUNT    83046 non-null  int64 \n",
      " 2   TYPE     83046 non-null  object\n",
      "dtypes: int64(2), object(1)\n",
      "memory usage: 2.5+ MB\n"
     ]
    }
   ],
   "source": [
    "# удаляю клиентов с двумя видами воздействия\n",
    "df_action.drop_duplicates(subset=['ELS_NKR'], keep=False, inplace=True)\n",
    "df_action.info()"
   ]
  },
  {
   "cell_type": "markdown",
   "id": "69c828cd",
   "metadata": {},
   "source": [
    "## Долги"
   ]
  },
  {
   "cell_type": "code",
   "execution_count": 11,
   "id": "c124f8f4",
   "metadata": {},
   "outputs": [
    {
     "data": {
      "text/html": [
       "<div>\n",
       "<style scoped>\n",
       "    .dataframe tbody tr th:only-of-type {\n",
       "        vertical-align: middle;\n",
       "    }\n",
       "\n",
       "    .dataframe tbody tr th {\n",
       "        vertical-align: top;\n",
       "    }\n",
       "\n",
       "    .dataframe thead th {\n",
       "        text-align: right;\n",
       "    }\n",
       "</style>\n",
       "<table border=\"1\" class=\"dataframe\">\n",
       "  <thead>\n",
       "    <tr style=\"text-align: right;\">\n",
       "      <th></th>\n",
       "      <th>ELS_NKR</th>\n",
       "      <th>STRATEGY_CODE</th>\n",
       "      <th>SALDO_OUT</th>\n",
       "    </tr>\n",
       "  </thead>\n",
       "  <tbody>\n",
       "    <tr>\n",
       "      <th>0</th>\n",
       "      <td>7400886532</td>\n",
       "      <td>контрольная группа</td>\n",
       "      <td>107739.68</td>\n",
       "    </tr>\n",
       "    <tr>\n",
       "      <th>1</th>\n",
       "      <td>7400778246</td>\n",
       "      <td>контрольная группа</td>\n",
       "      <td>106259.49</td>\n",
       "    </tr>\n",
       "    <tr>\n",
       "      <th>2</th>\n",
       "      <td>7401525575</td>\n",
       "      <td>контрольная группа</td>\n",
       "      <td>98060.22</td>\n",
       "    </tr>\n",
       "    <tr>\n",
       "      <th>3</th>\n",
       "      <td>7401530988</td>\n",
       "      <td>контрольная группа</td>\n",
       "      <td>76275.24</td>\n",
       "    </tr>\n",
       "    <tr>\n",
       "      <th>4</th>\n",
       "      <td>7400857074</td>\n",
       "      <td>контрольная группа</td>\n",
       "      <td>74222.53</td>\n",
       "    </tr>\n",
       "    <tr>\n",
       "      <th>...</th>\n",
       "      <td>...</td>\n",
       "      <td>...</td>\n",
       "      <td>...</td>\n",
       "    </tr>\n",
       "    <tr>\n",
       "      <th>16511</th>\n",
       "      <td>7401656094</td>\n",
       "      <td>стратегия</td>\n",
       "      <td>NaN</td>\n",
       "    </tr>\n",
       "    <tr>\n",
       "      <th>16512</th>\n",
       "      <td>7401656110</td>\n",
       "      <td>стратегия</td>\n",
       "      <td>NaN</td>\n",
       "    </tr>\n",
       "    <tr>\n",
       "      <th>16513</th>\n",
       "      <td>7401656120</td>\n",
       "      <td>стратегия</td>\n",
       "      <td>NaN</td>\n",
       "    </tr>\n",
       "    <tr>\n",
       "      <th>16514</th>\n",
       "      <td>7400426153</td>\n",
       "      <td>стратегия</td>\n",
       "      <td>NaN</td>\n",
       "    </tr>\n",
       "    <tr>\n",
       "      <th>16515</th>\n",
       "      <td>7401644340</td>\n",
       "      <td>стратегия</td>\n",
       "      <td>NaN</td>\n",
       "    </tr>\n",
       "  </tbody>\n",
       "</table>\n",
       "<p>16516 rows × 3 columns</p>\n",
       "</div>"
      ],
      "text/plain": [
       "          ELS_NKR       STRATEGY_CODE  SALDO_OUT\n",
       "0      7400886532  контрольная группа  107739.68\n",
       "1      7400778246  контрольная группа  106259.49\n",
       "2      7401525575  контрольная группа   98060.22\n",
       "3      7401530988  контрольная группа   76275.24\n",
       "4      7400857074  контрольная группа   74222.53\n",
       "...           ...                 ...        ...\n",
       "16511  7401656094           стратегия        NaN\n",
       "16512  7401656110           стратегия        NaN\n",
       "16513  7401656120           стратегия        NaN\n",
       "16514  7400426153           стратегия        NaN\n",
       "16515  7401644340           стратегия        NaN\n",
       "\n",
       "[16516 rows x 3 columns]"
      ]
     },
     "execution_count": 11,
     "metadata": {},
     "output_type": "execute_result"
    }
   ],
   "source": [
    "df3 = xl.parse('долги')\n",
    "df3"
   ]
  },
  {
   "cell_type": "code",
   "execution_count": 12,
   "id": "c9d2f7bb",
   "metadata": {},
   "outputs": [
    {
     "name": "stdout",
     "output_type": "stream",
     "text": [
      "<class 'pandas.core.frame.DataFrame'>\n",
      "RangeIndex: 16516 entries, 0 to 16515\n",
      "Data columns (total 3 columns):\n",
      " #   Column         Non-Null Count  Dtype  \n",
      "---  ------         --------------  -----  \n",
      " 0   ELS_NKR        16516 non-null  int64  \n",
      " 1   STRATEGY_CODE  16516 non-null  object \n",
      " 2   SALDO_OUT      15191 non-null  float64\n",
      "dtypes: float64(1), int64(1), object(1)\n",
      "memory usage: 387.2+ KB\n"
     ]
    }
   ],
   "source": [
    "df3.info()"
   ]
  },
  {
   "cell_type": "code",
   "execution_count": 13,
   "id": "ce76bac7",
   "metadata": {},
   "outputs": [
    {
     "data": {
      "text/plain": [
       "16516"
      ]
     },
     "execution_count": 13,
     "metadata": {},
     "output_type": "execute_result"
    }
   ],
   "source": [
    "# уникальных клиентов\n",
    "df3.ELS_NKR.nunique()"
   ]
  },
  {
   "cell_type": "code",
   "execution_count": 14,
   "id": "c2c3d361",
   "metadata": {},
   "outputs": [
    {
     "data": {
      "text/plain": [
       "стратегия             1225\n",
       "контрольная группа     100\n",
       "Name: STRATEGY_CODE, dtype: int64"
      ]
     },
     "execution_count": 14,
     "metadata": {},
     "output_type": "execute_result"
    }
   ],
   "source": [
    "# клиенты без задолженности\n",
    "df3[df3.isnull().any(1)].STRATEGY_CODE.value_counts()"
   ]
  },
  {
   "cell_type": "code",
   "execution_count": 15,
   "id": "7bab10c9",
   "metadata": {},
   "outputs": [
    {
     "name": "stdout",
     "output_type": "stream",
     "text": [
      "<class 'pandas.core.frame.DataFrame'>\n",
      "Int64Index: 15191 entries, 0 to 15290\n",
      "Data columns (total 3 columns):\n",
      " #   Column         Non-Null Count  Dtype  \n",
      "---  ------         --------------  -----  \n",
      " 0   ELS_NKR        15191 non-null  int64  \n",
      " 1   STRATEGY_CODE  15191 non-null  object \n",
      " 2   SALDO_OUT      15191 non-null  float64\n",
      "dtypes: float64(1), int64(1), object(1)\n",
      "memory usage: 474.7+ KB\n"
     ]
    }
   ],
   "source": [
    "# удаляю клиентов без задолженности\n",
    "df_debt=df3.dropna()\n",
    "df_debt.info()"
   ]
  },
  {
   "cell_type": "markdown",
   "id": "227fae73",
   "metadata": {},
   "source": [
    "## Оплата"
   ]
  },
  {
   "cell_type": "code",
   "execution_count": 16,
   "id": "52384025",
   "metadata": {},
   "outputs": [
    {
     "name": "stdout",
     "output_type": "stream",
     "text": [
      "<class 'pandas.core.frame.DataFrame'>\n",
      "RangeIndex: 1003859 entries, 0 to 1003858\n",
      "Data columns (total 2 columns):\n",
      " #   Column   Non-Null Count    Dtype  \n",
      "---  ------   --------------    -----  \n",
      " 0   SUM_OPL  1003859 non-null  float64\n",
      " 1   ELS_NKR  1003849 non-null  float64\n",
      "dtypes: float64(2)\n",
      "memory usage: 15.3 MB\n"
     ]
    }
   ],
   "source": [
    "df4 = xl.parse('оплаты')\n",
    "df4.info()"
   ]
  },
  {
   "cell_type": "code",
   "execution_count": 17,
   "id": "f8c5bea8",
   "metadata": {},
   "outputs": [
    {
     "data": {
      "text/html": [
       "<div>\n",
       "<style scoped>\n",
       "    .dataframe tbody tr th:only-of-type {\n",
       "        vertical-align: middle;\n",
       "    }\n",
       "\n",
       "    .dataframe tbody tr th {\n",
       "        vertical-align: top;\n",
       "    }\n",
       "\n",
       "    .dataframe thead th {\n",
       "        text-align: right;\n",
       "    }\n",
       "</style>\n",
       "<table border=\"1\" class=\"dataframe\">\n",
       "  <thead>\n",
       "    <tr style=\"text-align: right;\">\n",
       "      <th></th>\n",
       "      <th>SUM_OPL</th>\n",
       "      <th>ELS_NKR</th>\n",
       "    </tr>\n",
       "  </thead>\n",
       "  <tbody>\n",
       "    <tr>\n",
       "      <th>0</th>\n",
       "      <td>175.00</td>\n",
       "      <td>7400867015</td>\n",
       "    </tr>\n",
       "    <tr>\n",
       "      <th>1</th>\n",
       "      <td>1830.00</td>\n",
       "      <td>7400867016</td>\n",
       "    </tr>\n",
       "    <tr>\n",
       "      <th>2</th>\n",
       "      <td>251.09</td>\n",
       "      <td>7400867017</td>\n",
       "    </tr>\n",
       "    <tr>\n",
       "      <th>3</th>\n",
       "      <td>374.31</td>\n",
       "      <td>7400867018</td>\n",
       "    </tr>\n",
       "    <tr>\n",
       "      <th>4</th>\n",
       "      <td>150.00</td>\n",
       "      <td>7400867019</td>\n",
       "    </tr>\n",
       "  </tbody>\n",
       "</table>\n",
       "</div>"
      ],
      "text/plain": [
       "   SUM_OPL     ELS_NKR\n",
       "0   175.00  7400867015\n",
       "1  1830.00  7400867016\n",
       "2   251.09  7400867017\n",
       "3   374.31  7400867018\n",
       "4   150.00  7400867019"
      ]
     },
     "execution_count": 17,
     "metadata": {},
     "output_type": "execute_result"
    }
   ],
   "source": [
    "df4.dropna(inplace=True)\n",
    "df4['ELS_NKR']=df4['ELS_NKR'].apply(lambda x: int(x))\n",
    "df4.head()"
   ]
  },
  {
   "cell_type": "code",
   "execution_count": 18,
   "id": "c0f70fe7",
   "metadata": {},
   "outputs": [
    {
     "data": {
      "text/plain": [
       "969078"
      ]
     },
     "execution_count": 18,
     "metadata": {},
     "output_type": "execute_result"
    }
   ],
   "source": [
    "# уникальных клиентов, которые внесли оплату\n",
    "df4.ELS_NKR.nunique()"
   ]
  },
  {
   "cell_type": "code",
   "execution_count": 19,
   "id": "02cb4910",
   "metadata": {},
   "outputs": [],
   "source": [
    "# суммирую оплаты по каждому клиенту\n",
    "df_payment=df4.groupby(['ELS_NKR'])['SUM_OPL'].sum().reset_index()"
   ]
  },
  {
   "cell_type": "code",
   "execution_count": 20,
   "id": "d874ef83",
   "metadata": {
    "scrolled": true
   },
   "outputs": [
    {
     "name": "stdout",
     "output_type": "stream",
     "text": [
      "<class 'pandas.core.frame.DataFrame'>\n",
      "RangeIndex: 969078 entries, 0 to 969077\n",
      "Data columns (total 2 columns):\n",
      " #   Column   Non-Null Count   Dtype  \n",
      "---  ------   --------------   -----  \n",
      " 0   ELS_NKR  969078 non-null  int64  \n",
      " 1   SUM_OPL  969078 non-null  float64\n",
      "dtypes: float64(1), int64(1)\n",
      "memory usage: 14.8 MB\n"
     ]
    }
   ],
   "source": [
    "df_payment.info()"
   ]
  },
  {
   "cell_type": "markdown",
   "id": "947ff2f6",
   "metadata": {},
   "source": [
    "## Итоговая таблица"
   ]
  },
  {
   "cell_type": "code",
   "execution_count": 21,
   "id": "1ec3d491",
   "metadata": {
    "scrolled": false
   },
   "outputs": [
    {
     "data": {
      "text/html": [
       "<div>\n",
       "<style scoped>\n",
       "    .dataframe tbody tr th:only-of-type {\n",
       "        vertical-align: middle;\n",
       "    }\n",
       "\n",
       "    .dataframe tbody tr th {\n",
       "        vertical-align: top;\n",
       "    }\n",
       "\n",
       "    .dataframe thead th {\n",
       "        text-align: right;\n",
       "    }\n",
       "</style>\n",
       "<table border=\"1\" class=\"dataframe\">\n",
       "  <thead>\n",
       "    <tr style=\"text-align: right;\">\n",
       "      <th></th>\n",
       "      <th>ELS_NKR</th>\n",
       "      <th>STRATEGY_CODE</th>\n",
       "      <th>SALDO_OUT</th>\n",
       "      <th>COUNT</th>\n",
       "      <th>TYPE</th>\n",
       "    </tr>\n",
       "  </thead>\n",
       "  <tbody>\n",
       "    <tr>\n",
       "      <th>0</th>\n",
       "      <td>7400886532</td>\n",
       "      <td>контрольная группа</td>\n",
       "      <td>107739.68</td>\n",
       "      <td>NaN</td>\n",
       "      <td>NaN</td>\n",
       "    </tr>\n",
       "    <tr>\n",
       "      <th>1</th>\n",
       "      <td>7400778246</td>\n",
       "      <td>контрольная группа</td>\n",
       "      <td>106259.49</td>\n",
       "      <td>NaN</td>\n",
       "      <td>NaN</td>\n",
       "    </tr>\n",
       "    <tr>\n",
       "      <th>2</th>\n",
       "      <td>7401525575</td>\n",
       "      <td>контрольная группа</td>\n",
       "      <td>98060.22</td>\n",
       "      <td>NaN</td>\n",
       "      <td>NaN</td>\n",
       "    </tr>\n",
       "    <tr>\n",
       "      <th>3</th>\n",
       "      <td>7401530988</td>\n",
       "      <td>контрольная группа</td>\n",
       "      <td>76275.24</td>\n",
       "      <td>NaN</td>\n",
       "      <td>NaN</td>\n",
       "    </tr>\n",
       "    <tr>\n",
       "      <th>4</th>\n",
       "      <td>7400857074</td>\n",
       "      <td>контрольная группа</td>\n",
       "      <td>74222.53</td>\n",
       "      <td>NaN</td>\n",
       "      <td>NaN</td>\n",
       "    </tr>\n",
       "  </tbody>\n",
       "</table>\n",
       "</div>"
      ],
      "text/plain": [
       "      ELS_NKR       STRATEGY_CODE  SALDO_OUT  COUNT TYPE\n",
       "0  7400886532  контрольная группа  107739.68    NaN  NaN\n",
       "1  7400778246  контрольная группа  106259.49    NaN  NaN\n",
       "2  7401525575  контрольная группа   98060.22    NaN  NaN\n",
       "3  7401530988  контрольная группа   76275.24    NaN  NaN\n",
       "4  7400857074  контрольная группа   74222.53    NaN  NaN"
      ]
     },
     "execution_count": 21,
     "metadata": {},
     "output_type": "execute_result"
    }
   ],
   "source": [
    "df=pd.merge(df_debt, df_action, how='left', on=['ELS_NKR'])\n",
    "df.head()"
   ]
  },
  {
   "cell_type": "code",
   "execution_count": 22,
   "id": "2da4b6f1",
   "metadata": {
    "scrolled": true
   },
   "outputs": [
    {
     "data": {
      "text/html": [
       "<div>\n",
       "<style scoped>\n",
       "    .dataframe tbody tr th:only-of-type {\n",
       "        vertical-align: middle;\n",
       "    }\n",
       "\n",
       "    .dataframe tbody tr th {\n",
       "        vertical-align: top;\n",
       "    }\n",
       "\n",
       "    .dataframe thead th {\n",
       "        text-align: right;\n",
       "    }\n",
       "</style>\n",
       "<table border=\"1\" class=\"dataframe\">\n",
       "  <thead>\n",
       "    <tr style=\"text-align: right;\">\n",
       "      <th></th>\n",
       "      <th>ELS_NKR</th>\n",
       "      <th>STRATEGY_CODE</th>\n",
       "      <th>SALDO_OUT</th>\n",
       "      <th>COUNT</th>\n",
       "      <th>TYPE</th>\n",
       "      <th>SUM_OPL</th>\n",
       "    </tr>\n",
       "  </thead>\n",
       "  <tbody>\n",
       "    <tr>\n",
       "      <th>0</th>\n",
       "      <td>7400886532</td>\n",
       "      <td>контрольная группа</td>\n",
       "      <td>107739.68</td>\n",
       "      <td>NaN</td>\n",
       "      <td>NaN</td>\n",
       "      <td>4936.5</td>\n",
       "    </tr>\n",
       "    <tr>\n",
       "      <th>1</th>\n",
       "      <td>7400778246</td>\n",
       "      <td>контрольная группа</td>\n",
       "      <td>106259.49</td>\n",
       "      <td>NaN</td>\n",
       "      <td>NaN</td>\n",
       "      <td>NaN</td>\n",
       "    </tr>\n",
       "    <tr>\n",
       "      <th>2</th>\n",
       "      <td>7401525575</td>\n",
       "      <td>контрольная группа</td>\n",
       "      <td>98060.22</td>\n",
       "      <td>NaN</td>\n",
       "      <td>NaN</td>\n",
       "      <td>NaN</td>\n",
       "    </tr>\n",
       "    <tr>\n",
       "      <th>3</th>\n",
       "      <td>7401530988</td>\n",
       "      <td>контрольная группа</td>\n",
       "      <td>76275.24</td>\n",
       "      <td>NaN</td>\n",
       "      <td>NaN</td>\n",
       "      <td>1000.0</td>\n",
       "    </tr>\n",
       "    <tr>\n",
       "      <th>4</th>\n",
       "      <td>7400857074</td>\n",
       "      <td>контрольная группа</td>\n",
       "      <td>74222.53</td>\n",
       "      <td>NaN</td>\n",
       "      <td>NaN</td>\n",
       "      <td>NaN</td>\n",
       "    </tr>\n",
       "  </tbody>\n",
       "</table>\n",
       "</div>"
      ],
      "text/plain": [
       "      ELS_NKR       STRATEGY_CODE  SALDO_OUT  COUNT TYPE  SUM_OPL\n",
       "0  7400886532  контрольная группа  107739.68    NaN  NaN   4936.5\n",
       "1  7400778246  контрольная группа  106259.49    NaN  NaN      NaN\n",
       "2  7401525575  контрольная группа   98060.22    NaN  NaN      NaN\n",
       "3  7401530988  контрольная группа   76275.24    NaN  NaN   1000.0\n",
       "4  7400857074  контрольная группа   74222.53    NaN  NaN      NaN"
      ]
     },
     "execution_count": 22,
     "metadata": {},
     "output_type": "execute_result"
    }
   ],
   "source": [
    "df=pd.merge(df, df_payment, how='left', on=['ELS_NKR'])\n",
    "df.head()"
   ]
  },
  {
   "cell_type": "code",
   "execution_count": 23,
   "id": "f6a03a30",
   "metadata": {},
   "outputs": [
    {
     "name": "stdout",
     "output_type": "stream",
     "text": [
      "<class 'pandas.core.frame.DataFrame'>\n",
      "Int64Index: 15191 entries, 0 to 15190\n",
      "Data columns (total 6 columns):\n",
      " #   Column         Non-Null Count  Dtype  \n",
      "---  ------         --------------  -----  \n",
      " 0   ELS_NKR        15191 non-null  int64  \n",
      " 1   STRATEGY_CODE  15191 non-null  object \n",
      " 2   SALDO_OUT      15191 non-null  float64\n",
      " 3   COUNT          3630 non-null   float64\n",
      " 4   TYPE           3630 non-null   object \n",
      " 5   SUM_OPL        4092 non-null   float64\n",
      "dtypes: float64(3), int64(1), object(2)\n",
      "memory usage: 830.8+ KB\n"
     ]
    }
   ],
   "source": [
    "df.info()"
   ]
  },
  {
   "cell_type": "code",
   "execution_count": 24,
   "id": "a6d43d36",
   "metadata": {
    "scrolled": true
   },
   "outputs": [
    {
     "data": {
      "text/html": [
       "<div>\n",
       "<style scoped>\n",
       "    .dataframe tbody tr th:only-of-type {\n",
       "        vertical-align: middle;\n",
       "    }\n",
       "\n",
       "    .dataframe tbody tr th {\n",
       "        vertical-align: top;\n",
       "    }\n",
       "\n",
       "    .dataframe thead th {\n",
       "        text-align: right;\n",
       "    }\n",
       "</style>\n",
       "<table border=\"1\" class=\"dataframe\">\n",
       "  <thead>\n",
       "    <tr style=\"text-align: right;\">\n",
       "      <th>TYPE</th>\n",
       "      <th>без воздействия</th>\n",
       "      <th>звонок</th>\n",
       "      <th>сообщение</th>\n",
       "    </tr>\n",
       "    <tr>\n",
       "      <th>STRATEGY_CODE</th>\n",
       "      <th></th>\n",
       "      <th></th>\n",
       "      <th></th>\n",
       "    </tr>\n",
       "  </thead>\n",
       "  <tbody>\n",
       "    <tr>\n",
       "      <th>контрольная группа</th>\n",
       "      <td>2257.0</td>\n",
       "      <td>0.0</td>\n",
       "      <td>3.0</td>\n",
       "    </tr>\n",
       "    <tr>\n",
       "      <th>стратегия</th>\n",
       "      <td>9304.0</td>\n",
       "      <td>152.0</td>\n",
       "      <td>3475.0</td>\n",
       "    </tr>\n",
       "  </tbody>\n",
       "</table>\n",
       "</div>"
      ],
      "text/plain": [
       "TYPE                без воздействия  звонок  сообщение\n",
       "STRATEGY_CODE                                         \n",
       "контрольная группа           2257.0     0.0        3.0\n",
       "стратегия                    9304.0   152.0     3475.0"
      ]
     },
     "execution_count": 24,
     "metadata": {},
     "output_type": "execute_result"
    }
   ],
   "source": [
    "df['TYPE'].fillna('без воздействия', inplace=True)\n",
    "df.pivot_table(index='STRATEGY_CODE', columns='TYPE', values='ELS_NKR', aggfunc='count').fillna(0)"
   ]
  },
  {
   "cell_type": "code",
   "execution_count": 25,
   "id": "300d5e5e",
   "metadata": {},
   "outputs": [],
   "source": [
    "#  оставляю только нужные данные\n",
    "df=df[((df['STRATEGY_CODE']=='контрольная группа') & (df['TYPE']=='без воздействия'))|((df['STRATEGY_CODE']=='стратегия') & (df['TYPE']!='без воздействия')) ]"
   ]
  },
  {
   "cell_type": "code",
   "execution_count": 26,
   "id": "7ea0edae",
   "metadata": {
    "scrolled": true
   },
   "outputs": [
    {
     "data": {
      "text/html": [
       "<div>\n",
       "<style scoped>\n",
       "    .dataframe tbody tr th:only-of-type {\n",
       "        vertical-align: middle;\n",
       "    }\n",
       "\n",
       "    .dataframe tbody tr th {\n",
       "        vertical-align: top;\n",
       "    }\n",
       "\n",
       "    .dataframe thead th {\n",
       "        text-align: right;\n",
       "    }\n",
       "</style>\n",
       "<table border=\"1\" class=\"dataframe\">\n",
       "  <thead>\n",
       "    <tr style=\"text-align: right;\">\n",
       "      <th>TYPE</th>\n",
       "      <th>без воздействия</th>\n",
       "      <th>звонок</th>\n",
       "      <th>сообщение</th>\n",
       "    </tr>\n",
       "    <tr>\n",
       "      <th>STRATEGY_CODE</th>\n",
       "      <th></th>\n",
       "      <th></th>\n",
       "      <th></th>\n",
       "    </tr>\n",
       "  </thead>\n",
       "  <tbody>\n",
       "    <tr>\n",
       "      <th>контрольная группа</th>\n",
       "      <td>2257.0</td>\n",
       "      <td>0.0</td>\n",
       "      <td>0.0</td>\n",
       "    </tr>\n",
       "    <tr>\n",
       "      <th>стратегия</th>\n",
       "      <td>0.0</td>\n",
       "      <td>152.0</td>\n",
       "      <td>3475.0</td>\n",
       "    </tr>\n",
       "  </tbody>\n",
       "</table>\n",
       "</div>"
      ],
      "text/plain": [
       "TYPE                без воздействия  звонок  сообщение\n",
       "STRATEGY_CODE                                         \n",
       "контрольная группа           2257.0     0.0        0.0\n",
       "стратегия                       0.0   152.0     3475.0"
      ]
     },
     "execution_count": 26,
     "metadata": {},
     "output_type": "execute_result"
    }
   ],
   "source": [
    "df_exp=df.pivot_table(index='STRATEGY_CODE', columns='TYPE', values='ELS_NKR', aggfunc='count').fillna(0)\n",
    "df_exp"
   ]
  },
  {
   "cell_type": "code",
   "execution_count": 27,
   "id": "03e44917",
   "metadata": {},
   "outputs": [
    {
     "data": {
      "text/html": [
       "<div>\n",
       "<style scoped>\n",
       "    .dataframe tbody tr th:only-of-type {\n",
       "        vertical-align: middle;\n",
       "    }\n",
       "\n",
       "    .dataframe tbody tr th {\n",
       "        vertical-align: top;\n",
       "    }\n",
       "\n",
       "    .dataframe thead th {\n",
       "        text-align: right;\n",
       "    }\n",
       "</style>\n",
       "<table border=\"1\" class=\"dataframe\">\n",
       "  <thead>\n",
       "    <tr style=\"text-align: right;\">\n",
       "      <th></th>\n",
       "      <th>ELS_NKR</th>\n",
       "      <th>STRATEGY_CODE</th>\n",
       "      <th>SALDO_OUT</th>\n",
       "      <th>COUNT</th>\n",
       "      <th>TYPE</th>\n",
       "      <th>SUM_OPL</th>\n",
       "    </tr>\n",
       "  </thead>\n",
       "  <tbody>\n",
       "    <tr>\n",
       "      <th>0</th>\n",
       "      <td>7400886532</td>\n",
       "      <td>контрольная группа</td>\n",
       "      <td>107739.68</td>\n",
       "      <td>NaN</td>\n",
       "      <td>без воздействия</td>\n",
       "      <td>4936.5</td>\n",
       "    </tr>\n",
       "    <tr>\n",
       "      <th>1</th>\n",
       "      <td>7400778246</td>\n",
       "      <td>контрольная группа</td>\n",
       "      <td>106259.49</td>\n",
       "      <td>NaN</td>\n",
       "      <td>без воздействия</td>\n",
       "      <td>NaN</td>\n",
       "    </tr>\n",
       "    <tr>\n",
       "      <th>2</th>\n",
       "      <td>7401525575</td>\n",
       "      <td>контрольная группа</td>\n",
       "      <td>98060.22</td>\n",
       "      <td>NaN</td>\n",
       "      <td>без воздействия</td>\n",
       "      <td>NaN</td>\n",
       "    </tr>\n",
       "    <tr>\n",
       "      <th>3</th>\n",
       "      <td>7401530988</td>\n",
       "      <td>контрольная группа</td>\n",
       "      <td>76275.24</td>\n",
       "      <td>NaN</td>\n",
       "      <td>без воздействия</td>\n",
       "      <td>1000.0</td>\n",
       "    </tr>\n",
       "    <tr>\n",
       "      <th>4</th>\n",
       "      <td>7400857074</td>\n",
       "      <td>контрольная группа</td>\n",
       "      <td>74222.53</td>\n",
       "      <td>NaN</td>\n",
       "      <td>без воздействия</td>\n",
       "      <td>NaN</td>\n",
       "    </tr>\n",
       "  </tbody>\n",
       "</table>\n",
       "</div>"
      ],
      "text/plain": [
       "      ELS_NKR       STRATEGY_CODE  SALDO_OUT  COUNT             TYPE  SUM_OPL\n",
       "0  7400886532  контрольная группа  107739.68    NaN  без воздействия   4936.5\n",
       "1  7400778246  контрольная группа  106259.49    NaN  без воздействия      NaN\n",
       "2  7401525575  контрольная группа   98060.22    NaN  без воздействия      NaN\n",
       "3  7401530988  контрольная группа   76275.24    NaN  без воздействия   1000.0\n",
       "4  7400857074  контрольная группа   74222.53    NaN  без воздействия      NaN"
      ]
     },
     "execution_count": 27,
     "metadata": {},
     "output_type": "execute_result"
    }
   ],
   "source": [
    "df.head()"
   ]
  },
  {
   "cell_type": "code",
   "execution_count": 28,
   "id": "b281eeb1",
   "metadata": {},
   "outputs": [],
   "source": [
    "#   функция для расчета стоимости воздействия. На вход:\n",
    "# row - строка df, m - стоимость сообщения, c- стоимость звонка  \n",
    "def costs(row):\n",
    "    m=2\n",
    "    c=10\n",
    "    if row['STRATEGY_CODE']=='стратегия':\n",
    "        if row['TYPE']=='звонок':\n",
    "            return row['COUNT']*c\n",
    "        elif row['TYPE']=='сообщение':\n",
    "            return row['COUNT']*m\n",
    "    else: return 0  "
   ]
  },
  {
   "cell_type": "code",
   "execution_count": 29,
   "id": "cd03a970",
   "metadata": {
    "scrolled": true
   },
   "outputs": [
    {
     "data": {
      "text/html": [
       "<div>\n",
       "<style scoped>\n",
       "    .dataframe tbody tr th:only-of-type {\n",
       "        vertical-align: middle;\n",
       "    }\n",
       "\n",
       "    .dataframe tbody tr th {\n",
       "        vertical-align: top;\n",
       "    }\n",
       "\n",
       "    .dataframe thead th {\n",
       "        text-align: right;\n",
       "    }\n",
       "</style>\n",
       "<table border=\"1\" class=\"dataframe\">\n",
       "  <thead>\n",
       "    <tr style=\"text-align: right;\">\n",
       "      <th></th>\n",
       "      <th>ELS_NKR</th>\n",
       "      <th>STRATEGY_CODE</th>\n",
       "      <th>SALDO_OUT</th>\n",
       "      <th>COUNT</th>\n",
       "      <th>TYPE</th>\n",
       "      <th>SUM_OPL</th>\n",
       "      <th>COSTS</th>\n",
       "    </tr>\n",
       "  </thead>\n",
       "  <tbody>\n",
       "    <tr>\n",
       "      <th>2527</th>\n",
       "      <td>7400075447</td>\n",
       "      <td>стратегия</td>\n",
       "      <td>40775.18</td>\n",
       "      <td>2.0</td>\n",
       "      <td>звонок</td>\n",
       "      <td>1541.54</td>\n",
       "      <td>20.0</td>\n",
       "    </tr>\n",
       "    <tr>\n",
       "      <th>3241</th>\n",
       "      <td>7400166695</td>\n",
       "      <td>стратегия</td>\n",
       "      <td>21648.23</td>\n",
       "      <td>2.0</td>\n",
       "      <td>звонок</td>\n",
       "      <td>17940.23</td>\n",
       "      <td>20.0</td>\n",
       "    </tr>\n",
       "    <tr>\n",
       "      <th>3207</th>\n",
       "      <td>7400291083</td>\n",
       "      <td>стратегия</td>\n",
       "      <td>22156.06</td>\n",
       "      <td>2.0</td>\n",
       "      <td>звонок</td>\n",
       "      <td>9647.81</td>\n",
       "      <td>20.0</td>\n",
       "    </tr>\n",
       "    <tr>\n",
       "      <th>2436</th>\n",
       "      <td>7401311172</td>\n",
       "      <td>стратегия</td>\n",
       "      <td>47957.63</td>\n",
       "      <td>2.0</td>\n",
       "      <td>звонок</td>\n",
       "      <td>42878.86</td>\n",
       "      <td>20.0</td>\n",
       "    </tr>\n",
       "    <tr>\n",
       "      <th>3218</th>\n",
       "      <td>7401395006</td>\n",
       "      <td>стратегия</td>\n",
       "      <td>22023.12</td>\n",
       "      <td>2.0</td>\n",
       "      <td>звонок</td>\n",
       "      <td>2950.00</td>\n",
       "      <td>20.0</td>\n",
       "    </tr>\n",
       "    <tr>\n",
       "      <th>...</th>\n",
       "      <td>...</td>\n",
       "      <td>...</td>\n",
       "      <td>...</td>\n",
       "      <td>...</td>\n",
       "      <td>...</td>\n",
       "      <td>...</td>\n",
       "      <td>...</td>\n",
       "    </tr>\n",
       "    <tr>\n",
       "      <th>1514</th>\n",
       "      <td>7400912323</td>\n",
       "      <td>контрольная группа</td>\n",
       "      <td>3440.40</td>\n",
       "      <td>NaN</td>\n",
       "      <td>без воздействия</td>\n",
       "      <td>NaN</td>\n",
       "      <td>0.0</td>\n",
       "    </tr>\n",
       "    <tr>\n",
       "      <th>1515</th>\n",
       "      <td>7401407325</td>\n",
       "      <td>контрольная группа</td>\n",
       "      <td>3436.52</td>\n",
       "      <td>NaN</td>\n",
       "      <td>без воздействия</td>\n",
       "      <td>437.11</td>\n",
       "      <td>0.0</td>\n",
       "    </tr>\n",
       "    <tr>\n",
       "      <th>1516</th>\n",
       "      <td>7400558382</td>\n",
       "      <td>контрольная группа</td>\n",
       "      <td>3435.84</td>\n",
       "      <td>NaN</td>\n",
       "      <td>без воздействия</td>\n",
       "      <td>1600.00</td>\n",
       "      <td>0.0</td>\n",
       "    </tr>\n",
       "    <tr>\n",
       "      <th>1517</th>\n",
       "      <td>7400625009</td>\n",
       "      <td>контрольная группа</td>\n",
       "      <td>3429.75</td>\n",
       "      <td>NaN</td>\n",
       "      <td>без воздействия</td>\n",
       "      <td>200.00</td>\n",
       "      <td>0.0</td>\n",
       "    </tr>\n",
       "    <tr>\n",
       "      <th>0</th>\n",
       "      <td>7400886532</td>\n",
       "      <td>контрольная группа</td>\n",
       "      <td>107739.68</td>\n",
       "      <td>NaN</td>\n",
       "      <td>без воздействия</td>\n",
       "      <td>4936.50</td>\n",
       "      <td>0.0</td>\n",
       "    </tr>\n",
       "  </tbody>\n",
       "</table>\n",
       "<p>5884 rows × 7 columns</p>\n",
       "</div>"
      ],
      "text/plain": [
       "         ELS_NKR       STRATEGY_CODE  SALDO_OUT  COUNT             TYPE  \\\n",
       "2527  7400075447           стратегия   40775.18    2.0           звонок   \n",
       "3241  7400166695           стратегия   21648.23    2.0           звонок   \n",
       "3207  7400291083           стратегия   22156.06    2.0           звонок   \n",
       "2436  7401311172           стратегия   47957.63    2.0           звонок   \n",
       "3218  7401395006           стратегия   22023.12    2.0           звонок   \n",
       "...          ...                 ...        ...    ...              ...   \n",
       "1514  7400912323  контрольная группа    3440.40    NaN  без воздействия   \n",
       "1515  7401407325  контрольная группа    3436.52    NaN  без воздействия   \n",
       "1516  7400558382  контрольная группа    3435.84    NaN  без воздействия   \n",
       "1517  7400625009  контрольная группа    3429.75    NaN  без воздействия   \n",
       "0     7400886532  контрольная группа  107739.68    NaN  без воздействия   \n",
       "\n",
       "       SUM_OPL  COSTS  \n",
       "2527   1541.54   20.0  \n",
       "3241  17940.23   20.0  \n",
       "3207   9647.81   20.0  \n",
       "2436  42878.86   20.0  \n",
       "3218   2950.00   20.0  \n",
       "...        ...    ...  \n",
       "1514       NaN    0.0  \n",
       "1515    437.11    0.0  \n",
       "1516   1600.00    0.0  \n",
       "1517    200.00    0.0  \n",
       "0      4936.50    0.0  \n",
       "\n",
       "[5884 rows x 7 columns]"
      ]
     },
     "execution_count": 29,
     "metadata": {},
     "output_type": "execute_result"
    }
   ],
   "source": [
    "df['COSTS']=df.apply(costs, axis=1)\n",
    "df.sort_values('COSTS', ascending=False)"
   ]
  },
  {
   "cell_type": "code",
   "execution_count": 30,
   "id": "4d700c8d",
   "metadata": {},
   "outputs": [
    {
     "data": {
      "text/html": [
       "<div>\n",
       "<style scoped>\n",
       "    .dataframe tbody tr th:only-of-type {\n",
       "        vertical-align: middle;\n",
       "    }\n",
       "\n",
       "    .dataframe tbody tr th {\n",
       "        vertical-align: top;\n",
       "    }\n",
       "\n",
       "    .dataframe thead th {\n",
       "        text-align: right;\n",
       "    }\n",
       "</style>\n",
       "<table border=\"1\" class=\"dataframe\">\n",
       "  <thead>\n",
       "    <tr style=\"text-align: right;\">\n",
       "      <th></th>\n",
       "      <th></th>\n",
       "      <th>SALDO_OUT</th>\n",
       "      <th>SUM_OPL</th>\n",
       "      <th>COSTS</th>\n",
       "      <th>PAYMENTS_%</th>\n",
       "    </tr>\n",
       "    <tr>\n",
       "      <th>STRATEGY_CODE</th>\n",
       "      <th>TYPE</th>\n",
       "      <th></th>\n",
       "      <th></th>\n",
       "      <th></th>\n",
       "      <th></th>\n",
       "    </tr>\n",
       "  </thead>\n",
       "  <tbody>\n",
       "    <tr>\n",
       "      <th>контрольная группа</th>\n",
       "      <th>без воздействия</th>\n",
       "      <td>17744073.45</td>\n",
       "      <td>1406133.23</td>\n",
       "      <td>0.0</td>\n",
       "      <td>7.9</td>\n",
       "    </tr>\n",
       "    <tr>\n",
       "      <th rowspan=\"2\" valign=\"top\">стратегия</th>\n",
       "      <th>звонок</th>\n",
       "      <td>5131456.33</td>\n",
       "      <td>1253260.45</td>\n",
       "      <td>1570.0</td>\n",
       "      <td>24.4</td>\n",
       "    </tr>\n",
       "    <tr>\n",
       "      <th>сообщение</th>\n",
       "      <td>28276573.50</td>\n",
       "      <td>4402694.47</td>\n",
       "      <td>6950.0</td>\n",
       "      <td>15.6</td>\n",
       "    </tr>\n",
       "  </tbody>\n",
       "</table>\n",
       "</div>"
      ],
      "text/plain": [
       "                                      SALDO_OUT     SUM_OPL   COSTS  \\\n",
       "STRATEGY_CODE      TYPE                                               \n",
       "контрольная группа без воздействия  17744073.45  1406133.23     0.0   \n",
       "стратегия          звонок            5131456.33  1253260.45  1570.0   \n",
       "                   сообщение        28276573.50  4402694.47  6950.0   \n",
       "\n",
       "                                    PAYMENTS_%  \n",
       "STRATEGY_CODE      TYPE                         \n",
       "контрольная группа без воздействия         7.9  \n",
       "стратегия          звонок                 24.4  \n",
       "                   сообщение              15.6  "
      ]
     },
     "execution_count": 30,
     "metadata": {},
     "output_type": "execute_result"
    }
   ],
   "source": [
    "df_acc=df.groupby(['STRATEGY_CODE', 'TYPE'])[['SALDO_OUT', 'SUM_OPL', 'COSTS']].sum()\n",
    "df_acc['PAYMENTS_%']=round(df_acc['SUM_OPL']/df_acc['SALDO_OUT']*100,1)\n",
    "df_acc"
   ]
  },
  {
   "cell_type": "code",
   "execution_count": 31,
   "id": "d325ba72",
   "metadata": {},
   "outputs": [
    {
     "data": {
      "text/html": [
       "<div>\n",
       "<style scoped>\n",
       "    .dataframe tbody tr th:only-of-type {\n",
       "        vertical-align: middle;\n",
       "    }\n",
       "\n",
       "    .dataframe tbody tr th {\n",
       "        vertical-align: top;\n",
       "    }\n",
       "\n",
       "    .dataframe thead th {\n",
       "        text-align: right;\n",
       "    }\n",
       "</style>\n",
       "<table border=\"1\" class=\"dataframe\">\n",
       "  <thead>\n",
       "    <tr style=\"text-align: right;\">\n",
       "      <th></th>\n",
       "      <th></th>\n",
       "      <th>ELS_NKR</th>\n",
       "    </tr>\n",
       "    <tr>\n",
       "      <th>STRATEGY_CODE</th>\n",
       "      <th>TYPE</th>\n",
       "      <th></th>\n",
       "    </tr>\n",
       "  </thead>\n",
       "  <tbody>\n",
       "    <tr>\n",
       "      <th>контрольная группа</th>\n",
       "      <th>без воздействия</th>\n",
       "      <td>2257</td>\n",
       "    </tr>\n",
       "    <tr>\n",
       "      <th rowspan=\"2\" valign=\"top\">стратегия</th>\n",
       "      <th>звонок</th>\n",
       "      <td>152</td>\n",
       "    </tr>\n",
       "    <tr>\n",
       "      <th>сообщение</th>\n",
       "      <td>3475</td>\n",
       "    </tr>\n",
       "  </tbody>\n",
       "</table>\n",
       "</div>"
      ],
      "text/plain": [
       "                                    ELS_NKR\n",
       "STRATEGY_CODE      TYPE                    \n",
       "контрольная группа без воздействия     2257\n",
       "стратегия          звонок               152\n",
       "                   сообщение           3475"
      ]
     },
     "execution_count": 31,
     "metadata": {},
     "output_type": "execute_result"
    }
   ],
   "source": [
    "#  распределение должников по группам воздействия\n",
    "df_debtors=pd.DataFrame(df.groupby(['STRATEGY_CODE', 'TYPE']).ELS_NKR.count())\n",
    "df_debtors"
   ]
  },
  {
   "cell_type": "code",
   "execution_count": 32,
   "id": "f01dd923",
   "metadata": {},
   "outputs": [
    {
     "data": {
      "text/html": [
       "<div>\n",
       "<style scoped>\n",
       "    .dataframe tbody tr th:only-of-type {\n",
       "        vertical-align: middle;\n",
       "    }\n",
       "\n",
       "    .dataframe tbody tr th {\n",
       "        vertical-align: top;\n",
       "    }\n",
       "\n",
       "    .dataframe thead th {\n",
       "        text-align: right;\n",
       "    }\n",
       "</style>\n",
       "<table border=\"1\" class=\"dataframe\">\n",
       "  <thead>\n",
       "    <tr style=\"text-align: right;\">\n",
       "      <th></th>\n",
       "      <th></th>\n",
       "      <th>ELS_NKR</th>\n",
       "    </tr>\n",
       "    <tr>\n",
       "      <th>STRATEGY_CODE</th>\n",
       "      <th>TYPE</th>\n",
       "      <th></th>\n",
       "    </tr>\n",
       "  </thead>\n",
       "  <tbody>\n",
       "    <tr>\n",
       "      <th>контрольная группа</th>\n",
       "      <th>без воздействия</th>\n",
       "      <td>578</td>\n",
       "    </tr>\n",
       "    <tr>\n",
       "      <th rowspan=\"2\" valign=\"top\">стратегия</th>\n",
       "      <th>звонок</th>\n",
       "      <td>152</td>\n",
       "    </tr>\n",
       "    <tr>\n",
       "      <th>сообщение</th>\n",
       "      <td>1230</td>\n",
       "    </tr>\n",
       "  </tbody>\n",
       "</table>\n",
       "</div>"
      ],
      "text/plain": [
       "                                    ELS_NKR\n",
       "STRATEGY_CODE      TYPE                    \n",
       "контрольная группа без воздействия      578\n",
       "стратегия          звонок               152\n",
       "                   сообщение           1230"
      ]
     },
     "execution_count": 32,
     "metadata": {},
     "output_type": "execute_result"
    }
   ],
   "source": [
    "# количество должников, внесших оплату\n",
    "df_payers=pd.DataFrame(df[df['SUM_OPL']>0].groupby(['STRATEGY_CODE', 'TYPE']).ELS_NKR.count())\n",
    "df_payers"
   ]
  },
  {
   "cell_type": "code",
   "execution_count": 33,
   "id": "f64b6fea",
   "metadata": {
    "scrolled": true
   },
   "outputs": [
    {
     "data": {
      "text/html": [
       "<div>\n",
       "<style scoped>\n",
       "    .dataframe tbody tr th:only-of-type {\n",
       "        vertical-align: middle;\n",
       "    }\n",
       "\n",
       "    .dataframe tbody tr th {\n",
       "        vertical-align: top;\n",
       "    }\n",
       "\n",
       "    .dataframe thead th {\n",
       "        text-align: right;\n",
       "    }\n",
       "</style>\n",
       "<table border=\"1\" class=\"dataframe\">\n",
       "  <thead>\n",
       "    <tr style=\"text-align: right;\">\n",
       "      <th></th>\n",
       "      <th></th>\n",
       "      <th>debtors</th>\n",
       "      <th>payers</th>\n",
       "      <th>conversion, %</th>\n",
       "    </tr>\n",
       "    <tr>\n",
       "      <th>STRATEGY_CODE</th>\n",
       "      <th>TYPE</th>\n",
       "      <th></th>\n",
       "      <th></th>\n",
       "      <th></th>\n",
       "    </tr>\n",
       "  </thead>\n",
       "  <tbody>\n",
       "    <tr>\n",
       "      <th>контрольная группа</th>\n",
       "      <th>без воздействия</th>\n",
       "      <td>2257</td>\n",
       "      <td>578</td>\n",
       "      <td>25.6</td>\n",
       "    </tr>\n",
       "    <tr>\n",
       "      <th rowspan=\"2\" valign=\"top\">стратегия</th>\n",
       "      <th>звонок</th>\n",
       "      <td>152</td>\n",
       "      <td>152</td>\n",
       "      <td>100.0</td>\n",
       "    </tr>\n",
       "    <tr>\n",
       "      <th>сообщение</th>\n",
       "      <td>3475</td>\n",
       "      <td>1230</td>\n",
       "      <td>35.4</td>\n",
       "    </tr>\n",
       "  </tbody>\n",
       "</table>\n",
       "</div>"
      ],
      "text/plain": [
       "                                    debtors  payers  conversion, %\n",
       "STRATEGY_CODE      TYPE                                           \n",
       "контрольная группа без воздействия     2257     578           25.6\n",
       "стратегия          звонок               152     152          100.0\n",
       "                   сообщение           3475    1230           35.4"
      ]
     },
     "execution_count": 33,
     "metadata": {},
     "output_type": "execute_result"
    }
   ],
   "source": [
    "df_res=pd.merge(df_debtors, df_payers, left_index=True, right_index=True)\n",
    "df_res.rename(columns={'ELS_NKR_x': 'debtors', 'ELS_NKR_y': 'payers'}, inplace=True)\n",
    "df_res['conversion, %']=round(df_res['payers']/df_res['debtors']*100,1)\n",
    "df_res\n",
    "# df_res.to_excel('Эффект_воздействия.xlsx')"
   ]
  },
  {
   "cell_type": "markdown",
   "id": "dfbf9a9f",
   "metadata": {},
   "source": [
    "## Задание 2"
   ]
  },
  {
   "cell_type": "code",
   "execution_count": null,
   "id": "709bea9e",
   "metadata": {},
   "outputs": [],
   "source": [
    "--сообщения\n",
    "SELECT \n",
    "    ELS_NKR\n",
    "FROM MESSENGERS_FEEDBACK_HISTORY\n",
    "WHERE (RESULT_DATE BETWEEN '01.11.2021' AND '30.11.2021') AND RESULT_ROW='доставлено'\n",
    "\n",
    "--звонки\n",
    "SELECT \n",
    "    ELS_NKR\n",
    "FROM ROBOT_FEEDBACK_HISTORY\n",
    "WHERE (CALL_DATE BETWEEN '01.11.2021' AND '30.11.2021') AND RESULT_ROW='успешно'\n",
    "\n",
    "--долги и оплаты\n",
    "SELECT *\n",
    "FROM\n",
    "   (SELECT \n",
    "        T1.ELS_NKR AS ELS_NKR,\n",
    "        T2.STRATEGY_CODE AS STRATEGY_CODE,\n",
    "        T1.SALDO_OUT AS SALDO_OUT -- при условии автоматического сальдирования на начало месяца\n",
    "   FROM EE_DATA_FULL AS T1 \n",
    "   LEFT JOIN \n",
    "   HISTORY_SEGMENTS AS T2 USING(ELS_NKR)\n",
    "   WHERE T1.MONTH_='ноябрь' AND T1.YEAR_='2021') AS DEBT\n",
    "\n",
    "LEFT JOIN\n",
    "\n",
    "   (SELECT \n",
    "        ELS_NKR,\n",
    "        SUM_OPL\n",
    "    FROM EE_DAYS_PAYS\n",
    "    WHERE DATE_OPL BETWEEN '01.11.2021' AND '30.11.2021') AS PAYMENT ON DEBT.ELS_NKR=PAYMENT.ELS_NKR\n",
    "     \n",
    "\n"
   ]
  }
 ],
 "metadata": {
  "kernelspec": {
   "display_name": "Python 3",
   "language": "python",
   "name": "python3"
  },
  "language_info": {
   "codemirror_mode": {
    "name": "ipython",
    "version": 3
   },
   "file_extension": ".py",
   "mimetype": "text/x-python",
   "name": "python",
   "nbconvert_exporter": "python",
   "pygments_lexer": "ipython3",
   "version": "3.8.8"
  }
 },
 "nbformat": 4,
 "nbformat_minor": 5
}
