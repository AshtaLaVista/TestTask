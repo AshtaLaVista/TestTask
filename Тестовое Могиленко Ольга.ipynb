{
 "cells": [
  {
   "cell_type": "markdown",
   "id": "6039451e",
   "metadata": {},
   "source": [
    "Тестовое задание   \n",
    "выполнила Могиленко Ольга"
   ]
  },
  {
   "cell_type": "markdown",
   "id": "a43824d0",
   "metadata": {},
   "source": [
    "## Анализ цен на золото и газ\n",
    "1. Задание выполнять в jupyter notebook\n",
    "2. [Скачать финансовые данные запросом (инструкция ниже) ](#section_2)    \n",
    "a. Цена на газ в европе в eur (ticker TTF=F)  \n",
    "b. Цена на золото в usd (ticker GC=F)  \n",
    "c. Конвертация usd в eur (ticker USDEUR=X)    \n",
    "3. [Преобразовать все датасеты в данные по месяцам (применить average если\n",
    "данные более подробные)](#section_3)   \n",
    "4. [Нарисовать графики ](#section_4)   \n",
    "a. Прирост цены с предыдущего месяца  \n",
    "b. Относительный рост по месяцам для золота и газа на одном графике (в\n",
    "пересчете на евро по курсу)  \n",
    "5. [Загрузить данные из п1 в sqlite базу данных  ](#section_5)  \n",
    "a. Написать sql запросы для расчета пунктов 4а и 4б на sql"
   ]
  },
  {
   "cell_type": "code",
   "execution_count": 1,
   "id": "c28dbc6e",
   "metadata": {
    "scrolled": true
   },
   "outputs": [],
   "source": [
    "# pip install pandas-datareader\n",
    "# pip install requests"
   ]
  },
  {
   "cell_type": "code",
   "execution_count": 2,
   "id": "31b485f3",
   "metadata": {},
   "outputs": [],
   "source": [
    "import pandas as pd\n",
    "import pandas_datareader as pdr\n",
    "import datetime \n",
    "from datetime import datetime, timedelta\n",
    "import requests  \n",
    "import matplotlib.pyplot as plt\n",
    "%matplotlib inline\n",
    "import warnings\n",
    "warnings.filterwarnings('ignore')"
   ]
  },
  {
   "cell_type": "markdown",
   "id": "cadb3071",
   "metadata": {},
   "source": [
    "Для сравнительного анализа показателей определим с какого периода есть данные о котировках для эмитентов TTF и GC и оставим только данные за совпадающий период.   \n"
   ]
  },
  {
   "cell_type": "code",
   "execution_count": 3,
   "id": "da7c4770",
   "metadata": {},
   "outputs": [],
   "source": [
    "url = 'https://query2.finance.yahoo.com/v8/finance/chart/TTF=F?period1=0&period2=9999999999&interval=1d'  \n",
    "headers = {'User-Agent': 'Mozilla/5.0'}\n",
    "data1 = requests.get(url, headers=headers).json()['chart']['result'][0]['timestamp'][0]\n",
    "# print(data1) "
   ]
  },
  {
   "cell_type": "code",
   "execution_count": 4,
   "id": "ccabd717",
   "metadata": {},
   "outputs": [],
   "source": [
    "url = 'https://query2.finance.yahoo.com/v8/finance/chart/GC=F?period1=0&period2=9999999999&interval=1d'  \n",
    "data2 = requests.get(url, headers=headers).json()['chart']['result'][0]['timestamp'][0]\n",
    "# print(data2)"
   ]
  },
  {
   "cell_type": "code",
   "execution_count": 5,
   "id": "892c5b43",
   "metadata": {},
   "outputs": [],
   "source": [
    "if data1>=data2:\n",
    "    mindata=data1\n",
    "else: mindata=data2    "
   ]
  },
  {
   "cell_type": "code",
   "execution_count": 6,
   "id": "d61c4285",
   "metadata": {
    "scrolled": true
   },
   "outputs": [
    {
     "data": {
      "text/plain": [
       "'2017-10-23'"
      ]
     },
     "execution_count": 6,
     "metadata": {},
     "output_type": "execute_result"
    }
   ],
   "source": [
    "mindata=datetime.utcfromtimestamp(mindata).strftime('%Y-%m-%d')\n",
    "mindata"
   ]
  },
  {
   "cell_type": "markdown",
   "id": "60afd2d1",
   "metadata": {},
   "source": [
    "Исследуемый период с 23 октября 2017 года по текущую дату. \n",
    "\n",
    "<a id='section_2'></a>\n",
    "**2.Получение финансовых данных**  \n",
    "\n",
    "Так как у Yahoo нет официального API, поэтому для обращения к yahoo.finance и получения необходимых данных удобнее воспользоваться **pandas_datareader** и с помощью функции **get_data_yahoo** вывести готовые датафреймы **ttf, gc, usdeur**"
   ]
  },
  {
   "cell_type": "code",
   "execution_count": 7,
   "id": "429efa62",
   "metadata": {
    "scrolled": true
   },
   "outputs": [],
   "source": [
    "ttf = pdr.get_data_yahoo('TTF=F', \n",
    "                          start=datetime.strptime(mindata, '%Y-%m-%d'), \n",
    "                          end=datetime.now())"
   ]
  },
  {
   "cell_type": "markdown",
   "id": "55d61a11",
   "metadata": {},
   "source": [
    "выберем для анализа показатель **Adj Close** - скорректированную цену закрытия торговой сессии и переименуем столбец"
   ]
  },
  {
   "cell_type": "code",
   "execution_count": 8,
   "id": "f140a16c",
   "metadata": {
    "scrolled": true
   },
   "outputs": [
    {
     "data": {
      "text/html": [
       "<div>\n",
       "<style scoped>\n",
       "    .dataframe tbody tr th:only-of-type {\n",
       "        vertical-align: middle;\n",
       "    }\n",
       "\n",
       "    .dataframe tbody tr th {\n",
       "        vertical-align: top;\n",
       "    }\n",
       "\n",
       "    .dataframe thead th {\n",
       "        text-align: right;\n",
       "    }\n",
       "</style>\n",
       "<table border=\"1\" class=\"dataframe\">\n",
       "  <thead>\n",
       "    <tr style=\"text-align: right;\">\n",
       "      <th></th>\n",
       "      <th>High</th>\n",
       "      <th>Low</th>\n",
       "      <th>Open</th>\n",
       "      <th>Close</th>\n",
       "      <th>Volume</th>\n",
       "      <th>TTF_eur</th>\n",
       "    </tr>\n",
       "    <tr>\n",
       "      <th>Date</th>\n",
       "      <th></th>\n",
       "      <th></th>\n",
       "      <th></th>\n",
       "      <th></th>\n",
       "      <th></th>\n",
       "      <th></th>\n",
       "    </tr>\n",
       "  </thead>\n",
       "  <tbody>\n",
       "    <tr>\n",
       "      <th>2017-10-23</th>\n",
       "      <td>18.090000</td>\n",
       "      <td>18.090000</td>\n",
       "      <td>18.090000</td>\n",
       "      <td>18.090000</td>\n",
       "      <td>0.0</td>\n",
       "      <td>18.090000</td>\n",
       "    </tr>\n",
       "    <tr>\n",
       "      <th>2017-10-24</th>\n",
       "      <td>17.959999</td>\n",
       "      <td>17.959999</td>\n",
       "      <td>17.959999</td>\n",
       "      <td>17.959999</td>\n",
       "      <td>0.0</td>\n",
       "      <td>17.959999</td>\n",
       "    </tr>\n",
       "    <tr>\n",
       "      <th>2017-10-25</th>\n",
       "      <td>18.110001</td>\n",
       "      <td>18.110001</td>\n",
       "      <td>18.110001</td>\n",
       "      <td>18.110001</td>\n",
       "      <td>0.0</td>\n",
       "      <td>18.110001</td>\n",
       "    </tr>\n",
       "    <tr>\n",
       "      <th>2017-10-26</th>\n",
       "      <td>18.070000</td>\n",
       "      <td>18.070000</td>\n",
       "      <td>18.070000</td>\n",
       "      <td>18.070000</td>\n",
       "      <td>0.0</td>\n",
       "      <td>18.070000</td>\n",
       "    </tr>\n",
       "    <tr>\n",
       "      <th>2017-10-27</th>\n",
       "      <td>18.150000</td>\n",
       "      <td>18.150000</td>\n",
       "      <td>18.150000</td>\n",
       "      <td>18.150000</td>\n",
       "      <td>0.0</td>\n",
       "      <td>18.150000</td>\n",
       "    </tr>\n",
       "  </tbody>\n",
       "</table>\n",
       "</div>"
      ],
      "text/plain": [
       "                 High        Low       Open      Close  Volume    TTF_eur\n",
       "Date                                                                     \n",
       "2017-10-23  18.090000  18.090000  18.090000  18.090000     0.0  18.090000\n",
       "2017-10-24  17.959999  17.959999  17.959999  17.959999     0.0  17.959999\n",
       "2017-10-25  18.110001  18.110001  18.110001  18.110001     0.0  18.110001\n",
       "2017-10-26  18.070000  18.070000  18.070000  18.070000     0.0  18.070000\n",
       "2017-10-27  18.150000  18.150000  18.150000  18.150000     0.0  18.150000"
      ]
     },
     "execution_count": 8,
     "metadata": {},
     "output_type": "execute_result"
    }
   ],
   "source": [
    "ttf=ttf.rename(columns={'Adj Close':'TTF_eur'})\n",
    "ttf.head()"
   ]
  },
  {
   "cell_type": "markdown",
   "id": "52f857b5",
   "metadata": {},
   "source": [
    "проделаем то же самое для **GC** и **USDEUR**"
   ]
  },
  {
   "cell_type": "code",
   "execution_count": 9,
   "id": "a1eb33e0",
   "metadata": {
    "scrolled": true
   },
   "outputs": [
    {
     "data": {
      "text/html": [
       "<div>\n",
       "<style scoped>\n",
       "    .dataframe tbody tr th:only-of-type {\n",
       "        vertical-align: middle;\n",
       "    }\n",
       "\n",
       "    .dataframe tbody tr th {\n",
       "        vertical-align: top;\n",
       "    }\n",
       "\n",
       "    .dataframe thead th {\n",
       "        text-align: right;\n",
       "    }\n",
       "</style>\n",
       "<table border=\"1\" class=\"dataframe\">\n",
       "  <thead>\n",
       "    <tr style=\"text-align: right;\">\n",
       "      <th></th>\n",
       "      <th>High</th>\n",
       "      <th>Low</th>\n",
       "      <th>Open</th>\n",
       "      <th>Close</th>\n",
       "      <th>Volume</th>\n",
       "      <th>GC</th>\n",
       "    </tr>\n",
       "    <tr>\n",
       "      <th>Date</th>\n",
       "      <th></th>\n",
       "      <th></th>\n",
       "      <th></th>\n",
       "      <th></th>\n",
       "      <th></th>\n",
       "      <th></th>\n",
       "    </tr>\n",
       "  </thead>\n",
       "  <tbody>\n",
       "    <tr>\n",
       "      <th>2017-10-23</th>\n",
       "      <td>1280.800049</td>\n",
       "      <td>1271.500000</td>\n",
       "      <td>1274.699951</td>\n",
       "      <td>1277.699951</td>\n",
       "      <td>115.0</td>\n",
       "      <td>1277.699951</td>\n",
       "    </tr>\n",
       "    <tr>\n",
       "      <th>2017-10-24</th>\n",
       "      <td>1275.500000</td>\n",
       "      <td>1273.699951</td>\n",
       "      <td>1275.500000</td>\n",
       "      <td>1275.000000</td>\n",
       "      <td>111.0</td>\n",
       "      <td>1275.000000</td>\n",
       "    </tr>\n",
       "    <tr>\n",
       "      <th>2017-10-25</th>\n",
       "      <td>1275.400024</td>\n",
       "      <td>1269.900024</td>\n",
       "      <td>1269.900024</td>\n",
       "      <td>1275.400024</td>\n",
       "      <td>105.0</td>\n",
       "      <td>1275.400024</td>\n",
       "    </tr>\n",
       "    <tr>\n",
       "      <th>2017-10-26</th>\n",
       "      <td>1273.500000</td>\n",
       "      <td>1264.699951</td>\n",
       "      <td>1273.500000</td>\n",
       "      <td>1266.300049</td>\n",
       "      <td>39.0</td>\n",
       "      <td>1266.300049</td>\n",
       "    </tr>\n",
       "    <tr>\n",
       "      <th>2017-10-27</th>\n",
       "      <td>1268.500000</td>\n",
       "      <td>1267.099976</td>\n",
       "      <td>1268.400024</td>\n",
       "      <td>1268.500000</td>\n",
       "      <td>567.0</td>\n",
       "      <td>1268.500000</td>\n",
       "    </tr>\n",
       "  </tbody>\n",
       "</table>\n",
       "</div>"
      ],
      "text/plain": [
       "                   High          Low         Open        Close  Volume  \\\n",
       "Date                                                                     \n",
       "2017-10-23  1280.800049  1271.500000  1274.699951  1277.699951   115.0   \n",
       "2017-10-24  1275.500000  1273.699951  1275.500000  1275.000000   111.0   \n",
       "2017-10-25  1275.400024  1269.900024  1269.900024  1275.400024   105.0   \n",
       "2017-10-26  1273.500000  1264.699951  1273.500000  1266.300049    39.0   \n",
       "2017-10-27  1268.500000  1267.099976  1268.400024  1268.500000   567.0   \n",
       "\n",
       "                     GC  \n",
       "Date                     \n",
       "2017-10-23  1277.699951  \n",
       "2017-10-24  1275.000000  \n",
       "2017-10-25  1275.400024  \n",
       "2017-10-26  1266.300049  \n",
       "2017-10-27  1268.500000  "
      ]
     },
     "execution_count": 9,
     "metadata": {},
     "output_type": "execute_result"
    }
   ],
   "source": [
    "gc = pdr.get_data_yahoo('GC=F', \n",
    "                          start=datetime.strptime(mindata, '%Y-%m-%d'), \n",
    "                          end=datetime.now())\n",
    "gc=gc.rename(columns={'Adj Close':'GC'})\n",
    "gc.head()"
   ]
  },
  {
   "cell_type": "code",
   "execution_count": 10,
   "id": "7a6a0b4e",
   "metadata": {},
   "outputs": [
    {
     "name": "stdout",
     "output_type": "stream",
     "text": [
      "<class 'pandas.core.frame.DataFrame'>\n",
      "DatetimeIndex: 1003 entries, 2017-10-23 to 2021-10-29\n",
      "Data columns (total 6 columns):\n",
      " #   Column  Non-Null Count  Dtype  \n",
      "---  ------  --------------  -----  \n",
      " 0   High    1003 non-null   float64\n",
      " 1   Low     1003 non-null   float64\n",
      " 2   Open    1003 non-null   float64\n",
      " 3   Close   1003 non-null   float64\n",
      " 4   Volume  1003 non-null   float64\n",
      " 5   GC      1003 non-null   float64\n",
      "dtypes: float64(6)\n",
      "memory usage: 54.9 KB\n"
     ]
    }
   ],
   "source": [
    "gc.info()"
   ]
  },
  {
   "cell_type": "code",
   "execution_count": 11,
   "id": "24c8a4ff",
   "metadata": {},
   "outputs": [
    {
     "data": {
      "text/html": [
       "<div>\n",
       "<style scoped>\n",
       "    .dataframe tbody tr th:only-of-type {\n",
       "        vertical-align: middle;\n",
       "    }\n",
       "\n",
       "    .dataframe tbody tr th {\n",
       "        vertical-align: top;\n",
       "    }\n",
       "\n",
       "    .dataframe thead th {\n",
       "        text-align: right;\n",
       "    }\n",
       "</style>\n",
       "<table border=\"1\" class=\"dataframe\">\n",
       "  <thead>\n",
       "    <tr style=\"text-align: right;\">\n",
       "      <th></th>\n",
       "      <th>High</th>\n",
       "      <th>Low</th>\n",
       "      <th>Open</th>\n",
       "      <th>Close</th>\n",
       "      <th>Volume</th>\n",
       "      <th>usdeur</th>\n",
       "    </tr>\n",
       "    <tr>\n",
       "      <th>Date</th>\n",
       "      <th></th>\n",
       "      <th></th>\n",
       "      <th></th>\n",
       "      <th></th>\n",
       "      <th></th>\n",
       "      <th></th>\n",
       "    </tr>\n",
       "  </thead>\n",
       "  <tbody>\n",
       "    <tr>\n",
       "      <th>2017-10-22</th>\n",
       "      <td>0.85222</td>\n",
       "      <td>0.848969</td>\n",
       "      <td>0.85072</td>\n",
       "      <td>0.85080</td>\n",
       "      <td>0.0</td>\n",
       "      <td>0.85080</td>\n",
       "    </tr>\n",
       "    <tr>\n",
       "      <th>2017-10-23</th>\n",
       "      <td>0.85151</td>\n",
       "      <td>0.849100</td>\n",
       "      <td>0.85068</td>\n",
       "      <td>0.85040</td>\n",
       "      <td>0.0</td>\n",
       "      <td>0.85040</td>\n",
       "    </tr>\n",
       "    <tr>\n",
       "      <th>2017-10-24</th>\n",
       "      <td>0.85079</td>\n",
       "      <td>0.846200</td>\n",
       "      <td>0.85035</td>\n",
       "      <td>0.85041</td>\n",
       "      <td>0.0</td>\n",
       "      <td>0.85041</td>\n",
       "    </tr>\n",
       "    <tr>\n",
       "      <th>2017-10-25</th>\n",
       "      <td>0.85527</td>\n",
       "      <td>0.844910</td>\n",
       "      <td>0.84587</td>\n",
       "      <td>0.84597</td>\n",
       "      <td>0.0</td>\n",
       "      <td>0.84597</td>\n",
       "    </tr>\n",
       "    <tr>\n",
       "      <th>2017-10-26</th>\n",
       "      <td>0.86386</td>\n",
       "      <td>0.858800</td>\n",
       "      <td>0.85918</td>\n",
       "      <td>0.85931</td>\n",
       "      <td>0.0</td>\n",
       "      <td>0.85931</td>\n",
       "    </tr>\n",
       "  </tbody>\n",
       "</table>\n",
       "</div>"
      ],
      "text/plain": [
       "               High       Low     Open    Close  Volume   usdeur\n",
       "Date                                                            \n",
       "2017-10-22  0.85222  0.848969  0.85072  0.85080     0.0  0.85080\n",
       "2017-10-23  0.85151  0.849100  0.85068  0.85040     0.0  0.85040\n",
       "2017-10-24  0.85079  0.846200  0.85035  0.85041     0.0  0.85041\n",
       "2017-10-25  0.85527  0.844910  0.84587  0.84597     0.0  0.84597\n",
       "2017-10-26  0.86386  0.858800  0.85918  0.85931     0.0  0.85931"
      ]
     },
     "execution_count": 11,
     "metadata": {},
     "output_type": "execute_result"
    }
   ],
   "source": [
    "usdeur = pdr.get_data_yahoo('USDEUR=X', \n",
    "                          start=datetime.strptime(mindata, '%Y-%m-%d'), \n",
    "                          end=datetime.now())\n",
    "usdeur=usdeur.rename(columns={'Adj Close':'usdeur'})                \n",
    "usdeur.head()\n"
   ]
  },
  {
   "cell_type": "code",
   "execution_count": 12,
   "id": "0fb4363f",
   "metadata": {
    "scrolled": true
   },
   "outputs": [
    {
     "name": "stdout",
     "output_type": "stream",
     "text": [
      "<class 'pandas.core.frame.DataFrame'>\n",
      "DatetimeIndex: 1003 entries, 2017-10-23 to 2021-10-29\n",
      "Data columns (total 2 columns):\n",
      " #   Column  Non-Null Count  Dtype  \n",
      "---  ------  --------------  -----  \n",
      " 0   GC      1003 non-null   float64\n",
      " 1   usdeur  883 non-null    float64\n",
      "dtypes: float64(2)\n",
      "memory usage: 55.8 KB\n"
     ]
    }
   ],
   "source": [
    "df=gc.merge(usdeur, how='left',left_index=True, right_index=True)[['GC', 'usdeur']]\n",
    "df.info()"
   ]
  },
  {
   "cell_type": "markdown",
   "id": "9e268f6a",
   "metadata": {},
   "source": [
    "оказалось, что за несколько дней нет данных о курсе евро к доллару, заменим пропущенные значения медианным значением кросскурса"
   ]
  },
  {
   "cell_type": "code",
   "execution_count": 13,
   "id": "585658d3",
   "metadata": {
    "scrolled": true
   },
   "outputs": [
    {
     "data": {
      "text/html": [
       "<div>\n",
       "<style scoped>\n",
       "    .dataframe tbody tr th:only-of-type {\n",
       "        vertical-align: middle;\n",
       "    }\n",
       "\n",
       "    .dataframe tbody tr th {\n",
       "        vertical-align: top;\n",
       "    }\n",
       "\n",
       "    .dataframe thead th {\n",
       "        text-align: right;\n",
       "    }\n",
       "</style>\n",
       "<table border=\"1\" class=\"dataframe\">\n",
       "  <thead>\n",
       "    <tr style=\"text-align: right;\">\n",
       "      <th></th>\n",
       "      <th>GC</th>\n",
       "      <th>usdeur</th>\n",
       "    </tr>\n",
       "    <tr>\n",
       "      <th>Date</th>\n",
       "      <th></th>\n",
       "      <th></th>\n",
       "    </tr>\n",
       "  </thead>\n",
       "  <tbody>\n",
       "    <tr>\n",
       "      <th>2017-10-23</th>\n",
       "      <td>1277.699951</td>\n",
       "      <td>0.85040</td>\n",
       "    </tr>\n",
       "    <tr>\n",
       "      <th>2017-10-24</th>\n",
       "      <td>1275.000000</td>\n",
       "      <td>0.85041</td>\n",
       "    </tr>\n",
       "    <tr>\n",
       "      <th>2017-10-25</th>\n",
       "      <td>1275.400024</td>\n",
       "      <td>0.84597</td>\n",
       "    </tr>\n",
       "    <tr>\n",
       "      <th>2017-10-26</th>\n",
       "      <td>1266.300049</td>\n",
       "      <td>0.85931</td>\n",
       "    </tr>\n",
       "    <tr>\n",
       "      <th>2017-10-27</th>\n",
       "      <td>1268.500000</td>\n",
       "      <td>0.86120</td>\n",
       "    </tr>\n",
       "    <tr>\n",
       "      <th>...</th>\n",
       "      <td>...</td>\n",
       "      <td>...</td>\n",
       "    </tr>\n",
       "    <tr>\n",
       "      <th>2021-10-25</th>\n",
       "      <td>1806.000000</td>\n",
       "      <td>0.86120</td>\n",
       "    </tr>\n",
       "    <tr>\n",
       "      <th>2021-10-26</th>\n",
       "      <td>1792.699951</td>\n",
       "      <td>0.86220</td>\n",
       "    </tr>\n",
       "    <tr>\n",
       "      <th>2021-10-27</th>\n",
       "      <td>1797.900024</td>\n",
       "      <td>0.86206</td>\n",
       "    </tr>\n",
       "    <tr>\n",
       "      <th>2021-10-28</th>\n",
       "      <td>1801.599976</td>\n",
       "      <td>0.86120</td>\n",
       "    </tr>\n",
       "    <tr>\n",
       "      <th>2021-10-29</th>\n",
       "      <td>1779.199951</td>\n",
       "      <td>0.86210</td>\n",
       "    </tr>\n",
       "  </tbody>\n",
       "</table>\n",
       "<p>1003 rows × 2 columns</p>\n",
       "</div>"
      ],
      "text/plain": [
       "                     GC   usdeur\n",
       "Date                            \n",
       "2017-10-23  1277.699951  0.85040\n",
       "2017-10-24  1275.000000  0.85041\n",
       "2017-10-25  1275.400024  0.84597\n",
       "2017-10-26  1266.300049  0.85931\n",
       "2017-10-27  1268.500000  0.86120\n",
       "...                 ...      ...\n",
       "2021-10-25  1806.000000  0.86120\n",
       "2021-10-26  1792.699951  0.86220\n",
       "2021-10-27  1797.900024  0.86206\n",
       "2021-10-28  1801.599976  0.86120\n",
       "2021-10-29  1779.199951  0.86210\n",
       "\n",
       "[1003 rows x 2 columns]"
      ]
     },
     "execution_count": 13,
     "metadata": {},
     "output_type": "execute_result"
    }
   ],
   "source": [
    "df.usdeur.fillna(df.usdeur.median(), inplace=True)\n",
    "df"
   ]
  },
  {
   "cell_type": "markdown",
   "id": "26469f12",
   "metadata": {},
   "source": [
    "переведём значения котировок золота в евро"
   ]
  },
  {
   "cell_type": "code",
   "execution_count": 14,
   "id": "5043d297",
   "metadata": {
    "scrolled": true
   },
   "outputs": [
    {
     "data": {
      "text/html": [
       "<div>\n",
       "<style scoped>\n",
       "    .dataframe tbody tr th:only-of-type {\n",
       "        vertical-align: middle;\n",
       "    }\n",
       "\n",
       "    .dataframe tbody tr th {\n",
       "        vertical-align: top;\n",
       "    }\n",
       "\n",
       "    .dataframe thead th {\n",
       "        text-align: right;\n",
       "    }\n",
       "</style>\n",
       "<table border=\"1\" class=\"dataframe\">\n",
       "  <thead>\n",
       "    <tr style=\"text-align: right;\">\n",
       "      <th></th>\n",
       "      <th>GC</th>\n",
       "      <th>usdeur</th>\n",
       "      <th>GC_eur</th>\n",
       "    </tr>\n",
       "    <tr>\n",
       "      <th>Date</th>\n",
       "      <th></th>\n",
       "      <th></th>\n",
       "      <th></th>\n",
       "    </tr>\n",
       "  </thead>\n",
       "  <tbody>\n",
       "    <tr>\n",
       "      <th>2017-10-23</th>\n",
       "      <td>1277.699951</td>\n",
       "      <td>0.85040</td>\n",
       "      <td>1086.556001</td>\n",
       "    </tr>\n",
       "    <tr>\n",
       "      <th>2017-10-24</th>\n",
       "      <td>1275.000000</td>\n",
       "      <td>0.85041</td>\n",
       "      <td>1084.272730</td>\n",
       "    </tr>\n",
       "    <tr>\n",
       "      <th>2017-10-25</th>\n",
       "      <td>1275.400024</td>\n",
       "      <td>0.84597</td>\n",
       "      <td>1078.950127</td>\n",
       "    </tr>\n",
       "    <tr>\n",
       "      <th>2017-10-26</th>\n",
       "      <td>1266.300049</td>\n",
       "      <td>0.85931</td>\n",
       "      <td>1088.144259</td>\n",
       "    </tr>\n",
       "    <tr>\n",
       "      <th>2017-10-27</th>\n",
       "      <td>1268.500000</td>\n",
       "      <td>0.86120</td>\n",
       "      <td>1092.432168</td>\n",
       "    </tr>\n",
       "    <tr>\n",
       "      <th>...</th>\n",
       "      <td>...</td>\n",
       "      <td>...</td>\n",
       "      <td>...</td>\n",
       "    </tr>\n",
       "    <tr>\n",
       "      <th>2021-10-25</th>\n",
       "      <td>1806.000000</td>\n",
       "      <td>0.86120</td>\n",
       "      <td>1555.327155</td>\n",
       "    </tr>\n",
       "    <tr>\n",
       "      <th>2021-10-26</th>\n",
       "      <td>1792.699951</td>\n",
       "      <td>0.86220</td>\n",
       "      <td>1545.665937</td>\n",
       "    </tr>\n",
       "    <tr>\n",
       "      <th>2021-10-27</th>\n",
       "      <td>1797.900024</td>\n",
       "      <td>0.86206</td>\n",
       "      <td>1549.897714</td>\n",
       "    </tr>\n",
       "    <tr>\n",
       "      <th>2021-10-28</th>\n",
       "      <td>1801.599976</td>\n",
       "      <td>0.86120</td>\n",
       "      <td>1551.537854</td>\n",
       "    </tr>\n",
       "    <tr>\n",
       "      <th>2021-10-29</th>\n",
       "      <td>1779.199951</td>\n",
       "      <td>0.86210</td>\n",
       "      <td>1533.848287</td>\n",
       "    </tr>\n",
       "  </tbody>\n",
       "</table>\n",
       "<p>1003 rows × 3 columns</p>\n",
       "</div>"
      ],
      "text/plain": [
       "                     GC   usdeur       GC_eur\n",
       "Date                                         \n",
       "2017-10-23  1277.699951  0.85040  1086.556001\n",
       "2017-10-24  1275.000000  0.85041  1084.272730\n",
       "2017-10-25  1275.400024  0.84597  1078.950127\n",
       "2017-10-26  1266.300049  0.85931  1088.144259\n",
       "2017-10-27  1268.500000  0.86120  1092.432168\n",
       "...                 ...      ...          ...\n",
       "2021-10-25  1806.000000  0.86120  1555.327155\n",
       "2021-10-26  1792.699951  0.86220  1545.665937\n",
       "2021-10-27  1797.900024  0.86206  1549.897714\n",
       "2021-10-28  1801.599976  0.86120  1551.537854\n",
       "2021-10-29  1779.199951  0.86210  1533.848287\n",
       "\n",
       "[1003 rows x 3 columns]"
      ]
     },
     "execution_count": 14,
     "metadata": {},
     "output_type": "execute_result"
    }
   ],
   "source": [
    "df['GC_eur']=df['GC']*df['usdeur']\n",
    "df"
   ]
  },
  {
   "cell_type": "markdown",
   "id": "bedacb21",
   "metadata": {},
   "source": [
    "объединим датафремы с котировками и оставим только нужные столбцы"
   ]
  },
  {
   "cell_type": "code",
   "execution_count": 15,
   "id": "48ba95c8",
   "metadata": {},
   "outputs": [
    {
     "data": {
      "text/html": [
       "<div>\n",
       "<style scoped>\n",
       "    .dataframe tbody tr th:only-of-type {\n",
       "        vertical-align: middle;\n",
       "    }\n",
       "\n",
       "    .dataframe tbody tr th {\n",
       "        vertical-align: top;\n",
       "    }\n",
       "\n",
       "    .dataframe thead th {\n",
       "        text-align: right;\n",
       "    }\n",
       "</style>\n",
       "<table border=\"1\" class=\"dataframe\">\n",
       "  <thead>\n",
       "    <tr style=\"text-align: right;\">\n",
       "      <th></th>\n",
       "      <th>GC</th>\n",
       "      <th>usdeur</th>\n",
       "      <th>GC_eur</th>\n",
       "      <th>High</th>\n",
       "      <th>Low</th>\n",
       "      <th>Open</th>\n",
       "      <th>Close</th>\n",
       "      <th>Volume</th>\n",
       "      <th>TTF_eur</th>\n",
       "    </tr>\n",
       "    <tr>\n",
       "      <th>Date</th>\n",
       "      <th></th>\n",
       "      <th></th>\n",
       "      <th></th>\n",
       "      <th></th>\n",
       "      <th></th>\n",
       "      <th></th>\n",
       "      <th></th>\n",
       "      <th></th>\n",
       "      <th></th>\n",
       "    </tr>\n",
       "  </thead>\n",
       "  <tbody>\n",
       "    <tr>\n",
       "      <th>2017-10-23</th>\n",
       "      <td>1277.699951</td>\n",
       "      <td>0.85040</td>\n",
       "      <td>1086.556001</td>\n",
       "      <td>18.090000</td>\n",
       "      <td>18.090000</td>\n",
       "      <td>18.090000</td>\n",
       "      <td>18.090000</td>\n",
       "      <td>0.0</td>\n",
       "      <td>18.090000</td>\n",
       "    </tr>\n",
       "    <tr>\n",
       "      <th>2017-10-24</th>\n",
       "      <td>1275.000000</td>\n",
       "      <td>0.85041</td>\n",
       "      <td>1084.272730</td>\n",
       "      <td>17.959999</td>\n",
       "      <td>17.959999</td>\n",
       "      <td>17.959999</td>\n",
       "      <td>17.959999</td>\n",
       "      <td>0.0</td>\n",
       "      <td>17.959999</td>\n",
       "    </tr>\n",
       "    <tr>\n",
       "      <th>2017-10-25</th>\n",
       "      <td>1275.400024</td>\n",
       "      <td>0.84597</td>\n",
       "      <td>1078.950127</td>\n",
       "      <td>18.110001</td>\n",
       "      <td>18.110001</td>\n",
       "      <td>18.110001</td>\n",
       "      <td>18.110001</td>\n",
       "      <td>0.0</td>\n",
       "      <td>18.110001</td>\n",
       "    </tr>\n",
       "    <tr>\n",
       "      <th>2017-10-26</th>\n",
       "      <td>1266.300049</td>\n",
       "      <td>0.85931</td>\n",
       "      <td>1088.144259</td>\n",
       "      <td>18.070000</td>\n",
       "      <td>18.070000</td>\n",
       "      <td>18.070000</td>\n",
       "      <td>18.070000</td>\n",
       "      <td>0.0</td>\n",
       "      <td>18.070000</td>\n",
       "    </tr>\n",
       "    <tr>\n",
       "      <th>2017-10-27</th>\n",
       "      <td>1268.500000</td>\n",
       "      <td>0.86120</td>\n",
       "      <td>1092.432168</td>\n",
       "      <td>18.150000</td>\n",
       "      <td>18.150000</td>\n",
       "      <td>18.150000</td>\n",
       "      <td>18.150000</td>\n",
       "      <td>0.0</td>\n",
       "      <td>18.150000</td>\n",
       "    </tr>\n",
       "  </tbody>\n",
       "</table>\n",
       "</div>"
      ],
      "text/plain": [
       "                     GC   usdeur       GC_eur       High        Low  \\\n",
       "Date                                                                  \n",
       "2017-10-23  1277.699951  0.85040  1086.556001  18.090000  18.090000   \n",
       "2017-10-24  1275.000000  0.85041  1084.272730  17.959999  17.959999   \n",
       "2017-10-25  1275.400024  0.84597  1078.950127  18.110001  18.110001   \n",
       "2017-10-26  1266.300049  0.85931  1088.144259  18.070000  18.070000   \n",
       "2017-10-27  1268.500000  0.86120  1092.432168  18.150000  18.150000   \n",
       "\n",
       "                 Open      Close  Volume    TTF_eur  \n",
       "Date                                                 \n",
       "2017-10-23  18.090000  18.090000     0.0  18.090000  \n",
       "2017-10-24  17.959999  17.959999     0.0  17.959999  \n",
       "2017-10-25  18.110001  18.110001     0.0  18.110001  \n",
       "2017-10-26  18.070000  18.070000     0.0  18.070000  \n",
       "2017-10-27  18.150000  18.150000     0.0  18.150000  "
      ]
     },
     "execution_count": 15,
     "metadata": {},
     "output_type": "execute_result"
    }
   ],
   "source": [
    "df=df.merge(ttf, left_index=True, right_index=True)\n",
    "df.head()"
   ]
  },
  {
   "cell_type": "code",
   "execution_count": 16,
   "id": "78b28400",
   "metadata": {
    "scrolled": true
   },
   "outputs": [
    {
     "data": {
      "text/html": [
       "<div>\n",
       "<style scoped>\n",
       "    .dataframe tbody tr th:only-of-type {\n",
       "        vertical-align: middle;\n",
       "    }\n",
       "\n",
       "    .dataframe tbody tr th {\n",
       "        vertical-align: top;\n",
       "    }\n",
       "\n",
       "    .dataframe thead th {\n",
       "        text-align: right;\n",
       "    }\n",
       "</style>\n",
       "<table border=\"1\" class=\"dataframe\">\n",
       "  <thead>\n",
       "    <tr style=\"text-align: right;\">\n",
       "      <th></th>\n",
       "      <th>GC_eur</th>\n",
       "      <th>TTF_eur</th>\n",
       "    </tr>\n",
       "    <tr>\n",
       "      <th>Date</th>\n",
       "      <th></th>\n",
       "      <th></th>\n",
       "    </tr>\n",
       "  </thead>\n",
       "  <tbody>\n",
       "    <tr>\n",
       "      <th>2017-10-23</th>\n",
       "      <td>1086.556001</td>\n",
       "      <td>18.090000</td>\n",
       "    </tr>\n",
       "    <tr>\n",
       "      <th>2017-10-24</th>\n",
       "      <td>1084.272730</td>\n",
       "      <td>17.959999</td>\n",
       "    </tr>\n",
       "    <tr>\n",
       "      <th>2017-10-25</th>\n",
       "      <td>1078.950127</td>\n",
       "      <td>18.110001</td>\n",
       "    </tr>\n",
       "    <tr>\n",
       "      <th>2017-10-26</th>\n",
       "      <td>1088.144259</td>\n",
       "      <td>18.070000</td>\n",
       "    </tr>\n",
       "    <tr>\n",
       "      <th>2017-10-27</th>\n",
       "      <td>1092.432168</td>\n",
       "      <td>18.150000</td>\n",
       "    </tr>\n",
       "    <tr>\n",
       "      <th>...</th>\n",
       "      <td>...</td>\n",
       "      <td>...</td>\n",
       "    </tr>\n",
       "    <tr>\n",
       "      <th>2021-10-22</th>\n",
       "      <td>1546.284555</td>\n",
       "      <td>87.337997</td>\n",
       "    </tr>\n",
       "    <tr>\n",
       "      <th>2021-10-25</th>\n",
       "      <td>1555.327155</td>\n",
       "      <td>88.642998</td>\n",
       "    </tr>\n",
       "    <tr>\n",
       "      <th>2021-10-26</th>\n",
       "      <td>1545.665937</td>\n",
       "      <td>88.492996</td>\n",
       "    </tr>\n",
       "    <tr>\n",
       "      <th>2021-10-27</th>\n",
       "      <td>1549.897714</td>\n",
       "      <td>86.819000</td>\n",
       "    </tr>\n",
       "    <tr>\n",
       "      <th>2021-10-28</th>\n",
       "      <td>1551.537854</td>\n",
       "      <td>77.031998</td>\n",
       "    </tr>\n",
       "  </tbody>\n",
       "</table>\n",
       "<p>1002 rows × 2 columns</p>\n",
       "</div>"
      ],
      "text/plain": [
       "                 GC_eur    TTF_eur\n",
       "Date                              \n",
       "2017-10-23  1086.556001  18.090000\n",
       "2017-10-24  1084.272730  17.959999\n",
       "2017-10-25  1078.950127  18.110001\n",
       "2017-10-26  1088.144259  18.070000\n",
       "2017-10-27  1092.432168  18.150000\n",
       "...                 ...        ...\n",
       "2021-10-22  1546.284555  87.337997\n",
       "2021-10-25  1555.327155  88.642998\n",
       "2021-10-26  1545.665937  88.492996\n",
       "2021-10-27  1549.897714  86.819000\n",
       "2021-10-28  1551.537854  77.031998\n",
       "\n",
       "[1002 rows x 2 columns]"
      ]
     },
     "execution_count": 16,
     "metadata": {},
     "output_type": "execute_result"
    }
   ],
   "source": [
    "df=df[['GC_eur','TTF_eur']]\n",
    "df"
   ]
  },
  {
   "cell_type": "markdown",
   "id": "a6a03e2a",
   "metadata": {},
   "source": [
    "<a id='section_3'></a>\n",
    "**3. преобразуем датафрейм таким образом, чтобы отслеживать изменения по месяцам**\n"
   ]
  },
  {
   "cell_type": "code",
   "execution_count": 17,
   "id": "3e46a055",
   "metadata": {
    "scrolled": true
   },
   "outputs": [],
   "source": [
    "monthly_df=df.resample('M').mean()\n",
    "monthly_df=monthly_df.rename(index=lambda x: x.strftime('%Y-%m'))\n",
    "# уменьшим разрядность выводимых данных для более легкого восприятия\n",
    "pd.options.display.float_format = '{:,.4f}'.format"
   ]
  },
  {
   "cell_type": "markdown",
   "id": "563f5a26",
   "metadata": {},
   "source": [
    "посчитаем изменение котировок газа и золота по месяцам и относительное изменение этих параметров"
   ]
  },
  {
   "cell_type": "code",
   "execution_count": 18,
   "id": "36ee97c6",
   "metadata": {},
   "outputs": [
    {
     "data": {
      "text/html": [
       "<div>\n",
       "<style scoped>\n",
       "    .dataframe tbody tr th:only-of-type {\n",
       "        vertical-align: middle;\n",
       "    }\n",
       "\n",
       "    .dataframe tbody tr th {\n",
       "        vertical-align: top;\n",
       "    }\n",
       "\n",
       "    .dataframe thead th {\n",
       "        text-align: right;\n",
       "    }\n",
       "</style>\n",
       "<table border=\"1\" class=\"dataframe\">\n",
       "  <thead>\n",
       "    <tr style=\"text-align: right;\">\n",
       "      <th></th>\n",
       "      <th>GC_eur</th>\n",
       "      <th>TTF_eur</th>\n",
       "      <th>GC_prev_month</th>\n",
       "      <th>TTF_prev_month</th>\n",
       "      <th>GC_diff</th>\n",
       "      <th>TTF_diff</th>\n",
       "      <th>GC_diff_%</th>\n",
       "      <th>TTF_diff_%</th>\n",
       "    </tr>\n",
       "    <tr>\n",
       "      <th>Date</th>\n",
       "      <th></th>\n",
       "      <th></th>\n",
       "      <th></th>\n",
       "      <th></th>\n",
       "      <th></th>\n",
       "      <th></th>\n",
       "      <th></th>\n",
       "      <th></th>\n",
       "    </tr>\n",
       "  </thead>\n",
       "  <tbody>\n",
       "    <tr>\n",
       "      <th>2021-06</th>\n",
       "      <td>1,532.5973</td>\n",
       "      <td>29.1683</td>\n",
       "      <td>1,538.3725</td>\n",
       "      <td>25.0180</td>\n",
       "      <td>-5.7751</td>\n",
       "      <td>4.1503</td>\n",
       "      <td>-0.3768</td>\n",
       "      <td>14.2287</td>\n",
       "    </tr>\n",
       "    <tr>\n",
       "      <th>2021-07</th>\n",
       "      <td>1,534.0806</td>\n",
       "      <td>36.0195</td>\n",
       "      <td>1,532.5973</td>\n",
       "      <td>29.1683</td>\n",
       "      <td>1.4833</td>\n",
       "      <td>6.8513</td>\n",
       "      <td>0.0967</td>\n",
       "      <td>19.0209</td>\n",
       "    </tr>\n",
       "    <tr>\n",
       "      <th>2021-08</th>\n",
       "      <td>1,520.4763</td>\n",
       "      <td>44.7136</td>\n",
       "      <td>1,534.0806</td>\n",
       "      <td>36.0195</td>\n",
       "      <td>-13.6043</td>\n",
       "      <td>8.6941</td>\n",
       "      <td>-0.8947</td>\n",
       "      <td>19.4439</td>\n",
       "    </tr>\n",
       "    <tr>\n",
       "      <th>2021-09</th>\n",
       "      <td>1,514.1780</td>\n",
       "      <td>66.8390</td>\n",
       "      <td>1,520.4763</td>\n",
       "      <td>44.7136</td>\n",
       "      <td>-6.2983</td>\n",
       "      <td>22.1255</td>\n",
       "      <td>-0.4160</td>\n",
       "      <td>33.1026</td>\n",
       "    </tr>\n",
       "    <tr>\n",
       "      <th>2021-10</th>\n",
       "      <td>1,531.0726</td>\n",
       "      <td>92.6566</td>\n",
       "      <td>1,514.1780</td>\n",
       "      <td>66.8390</td>\n",
       "      <td>16.8946</td>\n",
       "      <td>25.8176</td>\n",
       "      <td>1.1035</td>\n",
       "      <td>27.8637</td>\n",
       "    </tr>\n",
       "  </tbody>\n",
       "</table>\n",
       "</div>"
      ],
      "text/plain": [
       "            GC_eur  TTF_eur  GC_prev_month  TTF_prev_month  GC_diff  TTF_diff  \\\n",
       "Date                                                                            \n",
       "2021-06 1,532.5973  29.1683     1,538.3725         25.0180  -5.7751    4.1503   \n",
       "2021-07 1,534.0806  36.0195     1,532.5973         29.1683   1.4833    6.8513   \n",
       "2021-08 1,520.4763  44.7136     1,534.0806         36.0195 -13.6043    8.6941   \n",
       "2021-09 1,514.1780  66.8390     1,520.4763         44.7136  -6.2983   22.1255   \n",
       "2021-10 1,531.0726  92.6566     1,514.1780         66.8390  16.8946   25.8176   \n",
       "\n",
       "         GC_diff_%  TTF_diff_%  \n",
       "Date                            \n",
       "2021-06    -0.3768     14.2287  \n",
       "2021-07     0.0967     19.0209  \n",
       "2021-08    -0.8947     19.4439  \n",
       "2021-09    -0.4160     33.1026  \n",
       "2021-10     1.1035     27.8637  "
      ]
     },
     "execution_count": 18,
     "metadata": {},
     "output_type": "execute_result"
    }
   ],
   "source": [
    "monthly_df['GC_prev_month']=monthly_df['GC_eur'].shift(1, fill_value=0)\n",
    "monthly_df['TTF_prev_month']=monthly_df['TTF_eur'].shift(1, fill_value=0)\n",
    "monthly_df['GC_diff']=monthly_df['GC_eur']-monthly_df['GC_prev_month']\n",
    "monthly_df['TTF_diff']=monthly_df['TTF_eur']-monthly_df['TTF_prev_month']\n",
    "monthly_df['GC_diff_%']=monthly_df['GC_diff']/monthly_df['GC_eur']*100\n",
    "monthly_df['TTF_diff_%']=monthly_df['TTF_diff']/monthly_df['TTF_eur']*100\n",
    "monthly_df.tail()"
   ]
  },
  {
   "cell_type": "code",
   "execution_count": 19,
   "id": "9e7d233c",
   "metadata": {
    "scrolled": false
   },
   "outputs": [
    {
     "data": {
      "text/html": [
       "<div>\n",
       "<style scoped>\n",
       "    .dataframe tbody tr th:only-of-type {\n",
       "        vertical-align: middle;\n",
       "    }\n",
       "\n",
       "    .dataframe tbody tr th {\n",
       "        vertical-align: top;\n",
       "    }\n",
       "\n",
       "    .dataframe thead th {\n",
       "        text-align: right;\n",
       "    }\n",
       "</style>\n",
       "<table border=\"1\" class=\"dataframe\">\n",
       "  <thead>\n",
       "    <tr style=\"text-align: right;\">\n",
       "      <th></th>\n",
       "      <th>GC_eur</th>\n",
       "      <th>TTF_eur</th>\n",
       "      <th>GC_prev_month</th>\n",
       "      <th>TTF_prev_month</th>\n",
       "      <th>GC_diff</th>\n",
       "      <th>TTF_diff</th>\n",
       "      <th>GC_diff_%</th>\n",
       "      <th>TTF_diff_%</th>\n",
       "    </tr>\n",
       "    <tr>\n",
       "      <th>Date</th>\n",
       "      <th></th>\n",
       "      <th></th>\n",
       "      <th></th>\n",
       "      <th></th>\n",
       "      <th></th>\n",
       "      <th></th>\n",
       "      <th></th>\n",
       "      <th></th>\n",
       "    </tr>\n",
       "  </thead>\n",
       "  <tbody>\n",
       "    <tr>\n",
       "      <th>2017-10</th>\n",
       "      <td>1,087.9410</td>\n",
       "      <td>18.1107</td>\n",
       "      <td>0.0000</td>\n",
       "      <td>0.0000</td>\n",
       "      <td>0.0000</td>\n",
       "      <td>0.0000</td>\n",
       "      <td>0.0000</td>\n",
       "      <td>0.0000</td>\n",
       "    </tr>\n",
       "    <tr>\n",
       "      <th>2017-11</th>\n",
       "      <td>1,093.1685</td>\n",
       "      <td>19.4775</td>\n",
       "      <td>1,087.9410</td>\n",
       "      <td>18.1107</td>\n",
       "      <td>5.2276</td>\n",
       "      <td>1.3668</td>\n",
       "      <td>0.4782</td>\n",
       "      <td>7.0173</td>\n",
       "    </tr>\n",
       "    <tr>\n",
       "      <th>2017-12</th>\n",
       "      <td>1,069.6991</td>\n",
       "      <td>20.5508</td>\n",
       "      <td>1,093.1685</td>\n",
       "      <td>19.4775</td>\n",
       "      <td>-23.4694</td>\n",
       "      <td>1.0733</td>\n",
       "      <td>-2.1940</td>\n",
       "      <td>5.2224</td>\n",
       "    </tr>\n",
       "    <tr>\n",
       "      <th>2018-01</th>\n",
       "      <td>1,093.2598</td>\n",
       "      <td>18.6480</td>\n",
       "      <td>1,069.6991</td>\n",
       "      <td>20.5508</td>\n",
       "      <td>23.5607</td>\n",
       "      <td>-1.9027</td>\n",
       "      <td>2.1551</td>\n",
       "      <td>-10.2035</td>\n",
       "    </tr>\n",
       "    <tr>\n",
       "      <th>2018-02</th>\n",
       "      <td>1,076.6979</td>\n",
       "      <td>18.4734</td>\n",
       "      <td>1,093.2598</td>\n",
       "      <td>18.6480</td>\n",
       "      <td>-16.5619</td>\n",
       "      <td>-0.1746</td>\n",
       "      <td>-1.5382</td>\n",
       "      <td>-0.9450</td>\n",
       "    </tr>\n",
       "  </tbody>\n",
       "</table>\n",
       "</div>"
      ],
      "text/plain": [
       "            GC_eur  TTF_eur  GC_prev_month  TTF_prev_month  GC_diff  TTF_diff  \\\n",
       "Date                                                                            \n",
       "2017-10 1,087.9410  18.1107         0.0000          0.0000   0.0000    0.0000   \n",
       "2017-11 1,093.1685  19.4775     1,087.9410         18.1107   5.2276    1.3668   \n",
       "2017-12 1,069.6991  20.5508     1,093.1685         19.4775 -23.4694    1.0733   \n",
       "2018-01 1,093.2598  18.6480     1,069.6991         20.5508  23.5607   -1.9027   \n",
       "2018-02 1,076.6979  18.4734     1,093.2598         18.6480 -16.5619   -0.1746   \n",
       "\n",
       "         GC_diff_%  TTF_diff_%  \n",
       "Date                            \n",
       "2017-10     0.0000      0.0000  \n",
       "2017-11     0.4782      7.0173  \n",
       "2017-12    -2.1940      5.2224  \n",
       "2018-01     2.1551    -10.2035  \n",
       "2018-02    -1.5382     -0.9450  "
      ]
     },
     "execution_count": 19,
     "metadata": {},
     "output_type": "execute_result"
    }
   ],
   "source": [
    "# заменим на 0 значения изменений в первый месяц наблюдения\n",
    "monthly_df.iloc[0,4:]=0\n",
    "monthly_df.head()"
   ]
  },
  {
   "cell_type": "markdown",
   "id": "37a3569c",
   "metadata": {},
   "source": [
    "**4. Построим графики изменения котировок**\n",
    "<a id='section_4'></a>"
   ]
  },
  {
   "cell_type": "code",
   "execution_count": 20,
   "id": "088c2345",
   "metadata": {},
   "outputs": [
    {
     "data": {
      "image/png": "[encoded data removed]",
      "text/plain": [
       "<Figure size 1080x1440 with 2 Axes>"
      ]
     },
     "metadata": {
      "needs_background": "light"
     },
     "output_type": "display_data"
    }
   ],
   "source": [
    "fig,ax=plt.subplots(2,1,figsize=(15, 20))\n",
    "plt.grid(True, color='grey',linestyle='--', linewidth=0.8)\n",
    "plt.xticks(rotation=90)\n",
    "\n",
    "gc1=monthly_df['GC_diff']\n",
    "ttf1=monthly_df['TTF_diff']\n",
    "gc2=monthly_df['GC_diff_%']\n",
    "ttf2=monthly_df['TTF_diff_%']\n",
    "\n",
    "ax[0].plot(gc1, label='GC')\n",
    "ax[0].plot(ttf1, label='TTF')\n",
    "ax[1].bar(x=monthly_df.index, height=gc2, label='GC')\n",
    "ax[1].bar(x=monthly_df.index,height=ttf2, label='TTF')\n",
    "\n",
    "ax[0].xaxis.grid(True, which='major',linestyle='--', linewidth=0.8)\n",
    "ax[0].yaxis.grid(True, which='major',linestyle='--', linewidth=0.8)\n",
    "ax[0].set_xticklabels( monthly_df.index, rotation='90' )\n",
    "ax[0].set_title('Изменение цен на газ и золото по месяцам', size=16)\n",
    "ax[0].set_xlabel('Дата', size=14)\n",
    "ax[0].set_ylabel('Изменение цены, евро', size=14)\n",
    "ax[0].legend(loc=2)\n",
    "ax[1].set_title('Относительный рост котировок по месяцам', size=16)\n",
    "ax[1].set_xlabel('Дата', size=14)\n",
    "ax[1].set_ylabel('Изменение цены, %', size=14)\n",
    "ax[1].legend(loc=2)\n",
    "\n",
    "plt.show()"
   ]
  },
  {
   "cell_type": "code",
   "execution_count": 21,
   "id": "5e3c3c91",
   "metadata": {
    "scrolled": true
   },
   "outputs": [
    {
     "data": {
      "text/html": [
       "<div>\n",
       "<style scoped>\n",
       "    .dataframe tbody tr th:only-of-type {\n",
       "        vertical-align: middle;\n",
       "    }\n",
       "\n",
       "    .dataframe tbody tr th {\n",
       "        vertical-align: top;\n",
       "    }\n",
       "\n",
       "    .dataframe thead th {\n",
       "        text-align: right;\n",
       "    }\n",
       "</style>\n",
       "<table border=\"1\" class=\"dataframe\">\n",
       "  <thead>\n",
       "    <tr style=\"text-align: right;\">\n",
       "      <th></th>\n",
       "      <th>GC_diff_%</th>\n",
       "      <th>TTF_diff_%</th>\n",
       "    </tr>\n",
       "  </thead>\n",
       "  <tbody>\n",
       "    <tr>\n",
       "      <th>max</th>\n",
       "      <td>6.7112</td>\n",
       "      <td>35.4102</td>\n",
       "    </tr>\n",
       "    <tr>\n",
       "      <th>min</th>\n",
       "      <td>-3.7327</td>\n",
       "      <td>-34.8350</td>\n",
       "    </tr>\n",
       "  </tbody>\n",
       "</table>\n",
       "</div>"
      ],
      "text/plain": [
       "     GC_diff_%  TTF_diff_%\n",
       "max     6.7112     35.4102\n",
       "min    -3.7327    -34.8350"
      ]
     },
     "execution_count": 21,
     "metadata": {},
     "output_type": "execute_result"
    }
   ],
   "source": [
    "monthly_df[['GC_diff_%','TTF_diff_%']].agg(['max','min'])"
   ]
  },
  {
   "cell_type": "markdown",
   "id": "93af41e7",
   "metadata": {},
   "source": [
    "Можно сделать вывод, что **TTF** более волатильный по сравнению с **GC**"
   ]
  },
  {
   "cell_type": "markdown",
   "id": "31608b66",
   "metadata": {},
   "source": [
    "**5. Теперь проделаем те же операции с данными в sqlite**\n",
    "<a id='section_5'></a>"
   ]
  },
  {
   "cell_type": "code",
   "execution_count": 22,
   "id": "294a3e48",
   "metadata": {},
   "outputs": [],
   "source": [
    "import sqlite3 as sl"
   ]
  },
  {
   "cell_type": "code",
   "execution_count": 23,
   "id": "ea36581b",
   "metadata": {},
   "outputs": [],
   "source": [
    "con = sl.connect('ubirator-test.db')"
   ]
  },
  {
   "cell_type": "code",
   "execution_count": 24,
   "id": "77c7289d",
   "metadata": {},
   "outputs": [],
   "source": [
    "with con:\n",
    "    con.execute('''\n",
    "    DROP TABLE IF EXISTS ttf_sql;\n",
    "    ''')"
   ]
  },
  {
   "cell_type": "code",
   "execution_count": 25,
   "id": "5193b518",
   "metadata": {},
   "outputs": [],
   "source": [
    "ttf.to_sql('ttf_sql', con)"
   ]
  },
  {
   "cell_type": "code",
   "execution_count": 26,
   "id": "6067ca43",
   "metadata": {
    "scrolled": false
   },
   "outputs": [
    {
     "name": "stdout",
     "output_type": "stream",
     "text": [
      "('2017-10-23 00:00:00', 18.09000015258789)\n",
      "('2017-10-24 00:00:00', 17.959999084472656)\n",
      "('2017-10-25 00:00:00', 18.110000610351562)\n"
     ]
    }
   ],
   "source": [
    "with con:\n",
    "    data = con.execute(\"SELECT Date, TTF_eur FROM ttf_sql LIMIT 3\")\n",
    "    for row in data:\n",
    "        print(row)"
   ]
  },
  {
   "cell_type": "code",
   "execution_count": 27,
   "id": "9813b062",
   "metadata": {},
   "outputs": [],
   "source": [
    "with con:\n",
    "    con.execute('''\n",
    "    DROP TABLE IF EXISTS gc_sql\n",
    "    ''')"
   ]
  },
  {
   "cell_type": "code",
   "execution_count": 28,
   "id": "e7f71a1e",
   "metadata": {},
   "outputs": [],
   "source": [
    "gc.to_sql('gc_sql', con)"
   ]
  },
  {
   "cell_type": "code",
   "execution_count": 29,
   "id": "75a21aa9",
   "metadata": {},
   "outputs": [
    {
     "name": "stdout",
     "output_type": "stream",
     "text": [
      "('2017-10-23 00:00:00', 1277.699951171875)\n",
      "('2017-10-24 00:00:00', 1275.0)\n",
      "('2017-10-25 00:00:00', 1275.4000244140625)\n"
     ]
    }
   ],
   "source": [
    "with con:\n",
    "    data = con.execute(\"SELECT Date, GC FROM gc_sql LIMIT 3\")\n",
    "    for row in data:\n",
    "        print(row)"
   ]
  },
  {
   "cell_type": "code",
   "execution_count": 30,
   "id": "326c1fc5",
   "metadata": {},
   "outputs": [],
   "source": [
    "with con:\n",
    "    con.execute('''\n",
    "    DROP TABLE IF EXISTS usdeur_sql\n",
    "    ''')"
   ]
  },
  {
   "cell_type": "code",
   "execution_count": 31,
   "id": "03e9a10a",
   "metadata": {},
   "outputs": [],
   "source": [
    "usdeur.to_sql('usdeur_sql', con)"
   ]
  },
  {
   "cell_type": "code",
   "execution_count": 32,
   "id": "bcf3481c",
   "metadata": {},
   "outputs": [
    {
     "name": "stdout",
     "output_type": "stream",
     "text": [
      "('2017-10-22 00:00:00', 0.8507999777793884)\n",
      "('2017-10-23 00:00:00', 0.8503999710083008)\n",
      "('2017-10-24 00:00:00', 0.850409984588623)\n"
     ]
    }
   ],
   "source": [
    "with con:\n",
    "    data = con.execute(\"SELECT Date, usdeur FROM usdeur_sql LIMIT 3\")\n",
    "    for row in data:\n",
    "        print(row)"
   ]
  },
  {
   "cell_type": "code",
   "execution_count": 33,
   "id": "2f1e6de3",
   "metadata": {},
   "outputs": [
    {
     "name": "stdout",
     "output_type": "stream",
     "text": [
      "('2017-10', 1087.905, 18.111)\n",
      "('2017-11', 1093.156, 19.478)\n",
      "('2017-12', 1069.699, 20.551)\n",
      "('2018-01', 1093.26, 18.648)\n",
      "('2018-02', 1076.698, 18.473)\n",
      "('2018-03', 1073.712, 18.51)\n",
      "('2018-04', 1099.123, 19.24)\n",
      "('2018-05', 1105.592, 21.562)\n",
      "('2018-06', 1097.781, 21.748)\n",
      "('2018-07', 1058.288, 22.192)\n",
      "('2018-08', 1037.465, 23.893)\n",
      "('2018-09', 1026.469, 27.951)\n",
      "('2018-10', 1055.037, 26.113)\n",
      "('2018-11', 1072.963, 24.827)\n",
      "('2018-12', 1100.786, 23.886)\n",
      "('2019-01', 1129.889, 21.693)\n",
      "('2019-02', 1160.949, 18.085)\n",
      "('2019-03', 1148.161, 15.628)\n",
      "('2019-04', 1138.158, 14.94)\n",
      "('2019-05', 1135.865, 13.292)\n",
      "('2019-06', 1197.111, 10.842)\n",
      "('2019-07', 1252.632, 11.067)\n",
      "('2019-08', 1336.483, 11.275)\n",
      "('2019-09', 1354.942, 13.095)\n",
      "('2019-10', 1339.574, 15.612)\n",
      "('2019-11', 1329.345, 15.887)\n",
      "('2019-12', 1331.912, 14.267)\n",
      "('2020-01', 1404.493, 11.193)\n",
      "('2020-02', 1462.207, 9.084)\n",
      "('2020-03', 1440.931, 8.385)\n",
      "('2020-04', 1544.544, 6.657)\n",
      "('2020-05', 1552.317, 4.937)\n",
      "('2020-06', 1532.544, 5.312)\n",
      "('2020-07', 1606.062, 5.332)\n",
      "('2020-08', 1667.437, 8.255)\n",
      "('2020-09', 1633.975, 11.444)\n",
      "('2020-10', 1617.825, 14.175)\n",
      "('2020-11', 1582.698, 13.913)\n",
      "('2020-12', 1528.166, 16.365)\n",
      "('2021-01', 1530.852, 20.442)\n",
      "('2021-02', 1492.506, 17.415)\n",
      "('2021-03', 1443.591, 17.564)\n",
      "('2021-04', 1477.775, 20.393)\n",
      "('2021-05', 1538.298, 25.018)\n",
      "('2021-06', 1532.531, 29.168)\n",
      "('2021-07', 1533.995, 36.02)\n",
      "('2021-08', 1520.411, 44.714)\n",
      "('2021-09', 1514.11, 66.839)\n",
      "('2021-10', 1530.984, 92.657)\n"
     ]
    }
   ],
   "source": [
    "with con:\n",
    "    dt = con.execute(\n",
    "        '''WITH gc_ue as\\\n",
    "                 (SELECT gc.Date as Date, gc.GC as GC, ue.usdeur as usdeur\\\n",
    "                  FROM gc_sql as gc LEFT JOIN usdeur_sql as ue ON gc.Date=ue.Date),\\\n",
    "                  \\\n",
    "                df_gc as\\\n",
    "                 (SELECT gc_ue.Date as Date, gc_ue.GC as GC,\\\n",
    "                  CASE WHEN gc_ue.usdeur is null \\\n",
    "                      THEN (SELECT round(ue.usdeur,4) \\\n",
    "                           FROM usdeur_sql as ue \\\n",
    "                           ORDER BY ue.usdeur \\\n",
    "                           LIMIT 1 \\\n",
    "                           OFFSET (SELECT count(*) FROM usdeur_sql)/2)\\\n",
    "                      ELSE gc_ue.usdeur end as usdeur\\\n",
    "                   FROM gc_ue),\\\n",
    "                    \\\n",
    "                 df1 as \\\n",
    "                 (SELECT df_gc.Date, df_gc.GC*df_gc.usdeur as GC_eur FROM df_gc)\n",
    "                    \\\n",
    "                 SELECT strftime('%Y-%m', df1.Date), round(avg(df1.GC_eur),3), round(avg(ttf.TTF_eur),3) \\\n",
    "                 FROM df1 join ttf_sql as ttf on df1.Date=ttf.Date group by 1''')\n",
    "    for row in dt:\n",
    "        print(row)"
   ]
  },
  {
   "cell_type": "code",
   "execution_count": null,
   "id": "66a9d22c",
   "metadata": {},
   "outputs": [],
   "source": []
  }
 ],
 "metadata": {
  "kernelspec": {
   "display_name": "Python 3",
   "language": "python",
   "name": "python3"
  },
  "language_info": {
   "codemirror_mode": {
    "name": "ipython",
    "version": 3
   },
   "file_extension": ".py",
   "mimetype": "text/x-python",
   "name": "python",
   "nbconvert_exporter": "python",
   "pygments_lexer": "ipython3",
   "version": "3.8.8"
  }
 },
 "nbformat": 4,
 "nbformat_minor": 5
}
